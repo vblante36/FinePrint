{
 "cells": [
  {
   "cell_type": "code",
   "execution_count": 23,
   "id": "88ec06c5",
   "metadata": {},
   "outputs": [],
   "source": [
    "import pandas as pd\n",
    "import numpy as np\n",
    "\n",
    "import os\n",
    "import requests\n",
    "from bs4 import BeautifulSoup\n",
    "\n",
    "import json"
   ]
  },
  {
   "cell_type": "code",
   "execution_count": 7,
   "id": "00381890",
   "metadata": {},
   "outputs": [],
   "source": [
    "try:\n",
    "    CURRENT_DIR = os.getcwd()\n",
    "except:\n",
    "    CURRENT_DIR = os.path.dirname(os.path.abspath(__file__))\n",
    "\n",
    "CURRENT_DIR = CURRENT_DIR.split(\"/\")\n",
    "BASE_DIR_i = CURRENT_DIR.index(\"fineprint\")\n",
    "BASE_DIR = \"/\".join(CURRENT_DIR[:BASE_DIR_i+1])\n",
    "\n",
    "DATA_DIR = os.path.join(BASE_DIR, \"data\")"
   ]
  },
  {
   "cell_type": "code",
   "execution_count": 8,
   "id": "d7f7fc23",
   "metadata": {},
   "outputs": [
    {
     "data": {
      "text/plain": [
       "'/Users/emmajuansalazar/arxius/projects/fineprint'"
      ]
     },
     "execution_count": 8,
     "metadata": {},
     "output_type": "execute_result"
    }
   ],
   "source": [
    "BASE_DIR"
   ]
  },
  {
   "cell_type": "markdown",
   "id": "88e80cf9",
   "metadata": {},
   "source": [
    "# Loading the URL dataset"
   ]
  },
  {
   "cell_type": "code",
   "execution_count": 40,
   "id": "3f97ff7d",
   "metadata": {},
   "outputs": [],
   "source": [
    "prefix = \"https://data.commoncrawl.org/\"\n",
    "\n",
    "paths_filepath = f\"{DATA_DIR}/stage1-flagging/warc.paths\"\n",
    "with open(paths_filepath, 'r') as file:\n",
    "    paths = file.readlines()"
   ]
  },
  {
   "cell_type": "code",
   "execution_count": 41,
   "id": "a9c70aee",
   "metadata": {},
   "outputs": [
    {
     "name": "stdout",
     "output_type": "stream",
     "text": [
      "https://data.commoncrawl.org/crawl-data/CC-MAIN-2025-13/segments/1742004432822.9/warc/CC-MAIN-20250315031626-20250315061626-00000.warc.gz\n",
      "\n"
     ]
    }
   ],
   "source": [
    "url = prefix + paths[0]\n",
    "print(url)"
   ]
  },
  {
   "cell_type": "code",
   "execution_count": null,
   "id": "56d53f57",
   "metadata": {},
   "outputs": [
    {
     "name": "stdout",
     "output_type": "stream",
     "text": [
      "--2025-04-09 20:40:01--  https://data.commoncrawl.org/crawl-data/CC-MAIN-2025-13/segments/1742004432822.9/warc/CC-MAIN-20250315031626-20250315061626-00000.warc.gz\n",
      "Resolving data.commoncrawl.org (data.commoncrawl.org)... 2600:9000:25f1:7600:1d:ef90:7bc0:93a1, 2600:9000:25f1:c200:1d:ef90:7bc0:93a1, 2600:9000:25f1:ee00:1d:ef90:7bc0:93a1, ...\n",
      "Connecting to data.commoncrawl.org (data.commoncrawl.org)|2600:9000:25f1:7600:1d:ef90:7bc0:93a1|:443... connected.\n",
      "HTTP request sent, awaiting response... 200 OK\n",
      "Length: 1107756187 (1.0G) [application/octet-stream]\n",
      "Saving to: ‘CC-MAIN-20250315031626-20250315061626-00000.warc.gz’\n",
      "\n",
      "CC-MAIN-20250315031 100%[===================>]   1.03G  17.5MB/s    in 66s     \n",
      "\n",
      "2025-04-09 20:41:07 (16.1 MB/s) - ‘CC-MAIN-20250315031626-20250315061626-00000.warc.gz’ saved [1107756187/1107756187]\n",
      "\n",
      "zsh:2: command not found: -O\n"
     ]
    }
   ],
   "source": [
    "! wget {url}\n",
    "! mv {url.split(\"/\")[-1]} {DATA_DIR}/stage1-flagging/"
   ]
  },
  {
   "cell_type": "code",
   "execution_count": 43,
   "id": "a5db50c0",
   "metadata": {},
   "outputs": [
    {
     "name": "stdout",
     "output_type": "stream",
     "text": [
      "usage: mv [-f | -i | -n] [-hv] source target\n",
      "       mv [-f | -i | -n] [-v] source ... directory\n",
      "zsh:2: permission denied: /Users/emmajuansalazar/arxius/projects/fineprint/data/stage1-flagging/\n"
     ]
    }
   ],
   "source": [
    "! mv {url.split(\"/\")[-1]} {DATA_DIR}/stage1-flagging/"
   ]
  }
 ],
 "metadata": {
  "kernelspec": {
   "display_name": "fineprint",
   "language": "python",
   "name": "python3"
  },
  "language_info": {
   "codemirror_mode": {
    "name": "ipython",
    "version": 3
   },
   "file_extension": ".py",
   "mimetype": "text/x-python",
   "name": "python",
   "nbconvert_exporter": "python",
   "pygments_lexer": "ipython3",
   "version": "3.8.12"
  }
 },
 "nbformat": 4,
 "nbformat_minor": 5
}
