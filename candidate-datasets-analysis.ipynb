{
 "cells": [
  {
   "cell_type": "code",
   "execution_count": 1,
   "metadata": {},
   "outputs": [
    {
     "name": "stderr",
     "output_type": "stream",
     "text": [
      "/opt/homebrew/anaconda3/envs/fineprint/lib/python3.8/site-packages/tqdm/auto.py:21: TqdmWarning: IProgress not found. Please update jupyter and ipywidgets. See https://ipywidgets.readthedocs.io/en/stable/user_install.html\n",
      "  from .autonotebook import tqdm as notebook_tqdm\n"
     ]
    }
   ],
   "source": [
    "import pandas as pd\n",
    "import numpy as np\n",
    "import matplotlib.pyplot as plt\n",
    "\n",
    "import json\n",
    "\n",
    "from datasets import load_dataset"
   ]
  },
  {
   "cell_type": "markdown",
   "metadata": {},
   "source": [
    "# Datasets"
   ]
  },
  {
   "cell_type": "code",
   "execution_count": null,
   "metadata": {},
   "outputs": [],
   "source": [
    "datasets = {\"name\": [],\n",
    "            \"summary_file_format\": [],\n",
    "            \"raw_files_format\": [],\n",
    "            \"aggregated_files_format\": [],\n",
    "            \"nb_records\": [],\n",
    "            \"split_train_test\": [],\n",
    "            \"labeled\": [],\n",
    "            \"labels\": []}"
   ]
  },
  {
   "cell_type": "code",
   "execution_count": 3,
   "metadata": {},
   "outputs": [],
   "source": [
    "candidate_datasets_path = \"data/candidate-datasets\""
   ]
  },
  {
   "cell_type": "markdown",
   "metadata": {},
   "source": [
    "## CLAUDETTE - Terms of Service"
   ]
  },
  {
   "cell_type": "markdown",
   "metadata": {},
   "source": []
  },
  {
   "cell_type": "code",
   "execution_count": null,
   "metadata": {},
   "outputs": [],
   "source": []
  },
  {
   "cell_type": "markdown",
   "metadata": {},
   "source": [
    "## CUAD"
   ]
  },
  {
   "cell_type": "markdown",
   "metadata": {},
   "source": [
    "FORMAT\n",
    "\n",
    "The files in CUAD v1 include 1 CSV file, 1 SQuAD-style JSON file, 28 Excel files, 510 PDF files, and 510 TXT files.\n",
    "\n",
    "-  1 master clauses CSV: a 83-column 511-row file. The first column is the names of the contracts corresponding to the PDF and TXT files in the “full_contracts_pdf\" and \"full_contracts_txt\" folders. The remaining columns contain (1) text context (sometimes referred to as clause), and (2) human-input answers that correspond to each of the 41 categories in these contracts. See a list of the categories in “Category List” below. The first row represents the file name and a list of the categories. The remaining 510 rows each represent a contract in the dataset and include the text context and human-input answers corresponding to the categories. The human-input answers are derived from the text context and are formatted to a unified form.\n",
    "\n",
    "- 1 SQuAD-style JSON: this file is derived from the master clauses CSV to follow the same format as SQuAD 2.0 (https://rajpurkar.github.io/SQuAD-explorer/explore/v2.0/dev/), a question answering dataset whose answers are similarly spans of the input text. The exact format of the JSON format exactly mimics that of SQuAD 2.0 for compatibility with prior work. We also provide Python scripts for processing this data for further ease of use.\n",
    "\n",
    "- 28 Excels: a collection of Excel files containing clauses responsive to each of the categories identified in the “Category List” below. The first column is the names of the contracts corresponding to the PDF and TXT files in the “full_contracts_pdf\" and \"full_contracts_txt\" folders. The remaining columns contain (1) text context (clause) corresponding to one or more Categories that belong in the same group as identified in “Category List” below, and (2) in some cases, human-input answers that correspond to such text context. Each file is named as “Label Report - [label/group name] (Group [number]).xlsx”\n",
    "\n",
    "- 510 full contract PDFs: a collection of the underlying contracts that we used to extract the labels. Each file is named as “[document name].pdf”. These contracts are in a PDF format and are not labeled. The full contract PDFs contain raw data and are provided for context and reference.\n",
    "\n",
    "- 510 full contract TXTs: a collection of TXT files of the underlying contracts. Each file is named as “[document name].txt”. These contracts are in a plaintext format and are not labeled. The full contract TXTs contain raw data and are provided for context and reference.\n"
   ]
  },
  {
   "cell_type": "markdown",
   "metadata": {},
   "source": [
    "### EDA"
   ]
  },
  {
   "cell_type": "code",
   "execution_count": 4,
   "metadata": {},
   "outputs": [],
   "source": [
    "cuad_filepath = \"data/candidate-datasets/CUAD_v1/\""
   ]
  },
  {
   "cell_type": "code",
   "execution_count": 45,
   "metadata": {},
   "outputs": [
    {
     "data": {
      "text/plain": [
       "(510, 83)"
      ]
     },
     "execution_count": 45,
     "metadata": {},
     "output_type": "execute_result"
    }
   ],
   "source": [
    "cuad_master_clauses = pd.read_csv(f\"{candidate_datasets_path}/CUAD_v1/master_clauses.csv\")\n",
    "cuad_master_clauses.shape"
   ]
  },
  {
   "cell_type": "code",
   "execution_count": 5,
   "metadata": {},
   "outputs": [
    {
     "name": "stdout",
     "output_type": "stream",
     "text": [
      "       3\n",
      "     510\n"
     ]
    }
   ],
   "source": [
    "! ls data/candidate-datasets/CUAD_v1/full_contract_pdf | wc -l\n",
    "! ls data/candidate-datasets/CUAD_v1/full_contract_txt | wc -l\n"
   ]
  },
  {
   "cell_type": "code",
   "execution_count": 7,
   "metadata": {},
   "outputs": [
    {
     "data": {
      "text/html": [
       "<div>\n",
       "<style scoped>\n",
       "    .dataframe tbody tr th:only-of-type {\n",
       "        vertical-align: middle;\n",
       "    }\n",
       "\n",
       "    .dataframe tbody tr th {\n",
       "        vertical-align: top;\n",
       "    }\n",
       "\n",
       "    .dataframe thead th {\n",
       "        text-align: right;\n",
       "    }\n",
       "</style>\n",
       "<table border=\"1\" class=\"dataframe\">\n",
       "  <thead>\n",
       "    <tr style=\"text-align: right;\">\n",
       "      <th></th>\n",
       "      <th>Filename</th>\n",
       "      <th>Document Name</th>\n",
       "      <th>Document Name-Answer</th>\n",
       "      <th>Parties</th>\n",
       "      <th>Parties-Answer</th>\n",
       "      <th>Agreement Date</th>\n",
       "      <th>Agreement Date-Answer</th>\n",
       "      <th>Effective Date</th>\n",
       "      <th>Effective Date-Answer</th>\n",
       "      <th>Expiration Date</th>\n",
       "      <th>...</th>\n",
       "      <th>Liquidated Damages</th>\n",
       "      <th>Liquidated Damages-Answer</th>\n",
       "      <th>Warranty Duration</th>\n",
       "      <th>Warranty Duration-Answer</th>\n",
       "      <th>Insurance</th>\n",
       "      <th>Insurance-Answer</th>\n",
       "      <th>Covenant Not To Sue</th>\n",
       "      <th>Covenant Not To Sue-Answer</th>\n",
       "      <th>Third Party Beneficiary</th>\n",
       "      <th>Third Party Beneficiary-Answer</th>\n",
       "    </tr>\n",
       "  </thead>\n",
       "  <tbody>\n",
       "    <tr>\n",
       "      <th>0</th>\n",
       "      <td>CybergyHoldingsInc_20140520_10-Q_EX-10.27_8605...</td>\n",
       "      <td>['MARKETING AFFILIATE AGREEMENT']</td>\n",
       "      <td>MARKETING AFFILIATE AGREEMENT</td>\n",
       "      <td>['BIRCH FIRST GLOBAL INVESTMENTS INC.', 'MA', ...</td>\n",
       "      <td>Birch First Global Investments Inc. (\"Company\"...</td>\n",
       "      <td>['8th day of May 2014', 'May 8, 2014']</td>\n",
       "      <td>5/8/14</td>\n",
       "      <td>['This agreement shall begin upon the date of ...</td>\n",
       "      <td>NaN</td>\n",
       "      <td>['This agreement shall begin upon the date of ...</td>\n",
       "      <td>...</td>\n",
       "      <td>[]</td>\n",
       "      <td>No</td>\n",
       "      <td>[\"COMPANY'S SOLE AND EXCLUSIVE LIABILITY FOR T...</td>\n",
       "      <td>Yes</td>\n",
       "      <td>[]</td>\n",
       "      <td>No</td>\n",
       "      <td>[]</td>\n",
       "      <td>No</td>\n",
       "      <td>[]</td>\n",
       "      <td>No</td>\n",
       "    </tr>\n",
       "    <tr>\n",
       "      <th>1</th>\n",
       "      <td>EuromediaHoldingsCorp_20070215_10SB12G_EX-10.B...</td>\n",
       "      <td>['VIDEO-ON-DEMAND CONTENT LICENSE AGREEMENT']</td>\n",
       "      <td>VIDEO-ON-DEMAND CONTENT LICENSE AGREEMENT</td>\n",
       "      <td>['EuroMedia Holdings Corp.', 'Rogers', 'Rogers...</td>\n",
       "      <td>Rogers Cable Communications Inc. (\"Rogers\"); E...</td>\n",
       "      <td>['July 11 , 2006']</td>\n",
       "      <td>7/11/06</td>\n",
       "      <td>['July 11 , 2006']</td>\n",
       "      <td>7/11/06</td>\n",
       "      <td>['The term of this Agreement (the \"Initial Ter...</td>\n",
       "      <td>...</td>\n",
       "      <td>[]</td>\n",
       "      <td>No</td>\n",
       "      <td>[]</td>\n",
       "      <td>No</td>\n",
       "      <td>[]</td>\n",
       "      <td>No</td>\n",
       "      <td>[]</td>\n",
       "      <td>No</td>\n",
       "      <td>[]</td>\n",
       "      <td>No</td>\n",
       "    </tr>\n",
       "    <tr>\n",
       "      <th>2</th>\n",
       "      <td>FulucaiProductionsLtd_20131223_10-Q_EX-10.9_83...</td>\n",
       "      <td>['CONTENT DISTRIBUTION AND LICENSE AGREEMENT']</td>\n",
       "      <td>CONTENT DISTRIBUTION AND LICENSE AGREEMENT</td>\n",
       "      <td>['Producer', 'Fulucai Productions Ltd.', 'Conv...</td>\n",
       "      <td>CONVERGTV, INC. (“ConvergTV”); Fulucai Product...</td>\n",
       "      <td>['November 15, 2012']</td>\n",
       "      <td>11/15/12</td>\n",
       "      <td>['November 15, 2012']</td>\n",
       "      <td>11/15/12</td>\n",
       "      <td>[]</td>\n",
       "      <td>...</td>\n",
       "      <td>[]</td>\n",
       "      <td>No</td>\n",
       "      <td>[]</td>\n",
       "      <td>No</td>\n",
       "      <td>[]</td>\n",
       "      <td>No</td>\n",
       "      <td>[]</td>\n",
       "      <td>No</td>\n",
       "      <td>[]</td>\n",
       "      <td>No</td>\n",
       "    </tr>\n",
       "    <tr>\n",
       "      <th>3</th>\n",
       "      <td>GopageCorp_20140221_10-K_EX-10.1_8432966_EX-10...</td>\n",
       "      <td>['WEBSITE CONTENT LICENSE AGREEMENT']</td>\n",
       "      <td>WEBSITE CONTENT LICENSE AGREEMENT</td>\n",
       "      <td>['PSiTech Corporation', 'Licensor', 'Licensee'...</td>\n",
       "      <td>PSiTech Corporation (\"Licensor\"); Empirical Ve...</td>\n",
       "      <td>['Feb 10, 2014']</td>\n",
       "      <td>2/10/14</td>\n",
       "      <td>['Feb 10, 2014']</td>\n",
       "      <td>2/10/14</td>\n",
       "      <td>['The initial term of this Agreement commences...</td>\n",
       "      <td>...</td>\n",
       "      <td>[]</td>\n",
       "      <td>No</td>\n",
       "      <td>[]</td>\n",
       "      <td>No</td>\n",
       "      <td>[]</td>\n",
       "      <td>No</td>\n",
       "      <td>[]</td>\n",
       "      <td>No</td>\n",
       "      <td>[]</td>\n",
       "      <td>No</td>\n",
       "    </tr>\n",
       "    <tr>\n",
       "      <th>4</th>\n",
       "      <td>IdeanomicsInc_20160330_10-K_EX-10.26_9512211_E...</td>\n",
       "      <td>['CONTENT LICENSE AGREEMENT']</td>\n",
       "      <td>CONTENT LICENSE AGREEMENT</td>\n",
       "      <td>['YOU ON DEMAND HOLDINGS, INC.', 'Licensor', '...</td>\n",
       "      <td>Beijing Sun Seven Stars Culture Development Li...</td>\n",
       "      <td>['December 21, 2015']</td>\n",
       "      <td>12/21/15</td>\n",
       "      <td>['December 21, 2015']</td>\n",
       "      <td>12/21/15</td>\n",
       "      <td>['The Term of this Agreement (the \"Term\") shal...</td>\n",
       "      <td>...</td>\n",
       "      <td>[]</td>\n",
       "      <td>No</td>\n",
       "      <td>[]</td>\n",
       "      <td>No</td>\n",
       "      <td>[]</td>\n",
       "      <td>No</td>\n",
       "      <td>[]</td>\n",
       "      <td>No</td>\n",
       "      <td>[]</td>\n",
       "      <td>No</td>\n",
       "    </tr>\n",
       "  </tbody>\n",
       "</table>\n",
       "<p>5 rows × 83 columns</p>\n",
       "</div>"
      ],
      "text/plain": [
       "                                            Filename  \\\n",
       "0  CybergyHoldingsInc_20140520_10-Q_EX-10.27_8605...   \n",
       "1  EuromediaHoldingsCorp_20070215_10SB12G_EX-10.B...   \n",
       "2  FulucaiProductionsLtd_20131223_10-Q_EX-10.9_83...   \n",
       "3  GopageCorp_20140221_10-K_EX-10.1_8432966_EX-10...   \n",
       "4  IdeanomicsInc_20160330_10-K_EX-10.26_9512211_E...   \n",
       "\n",
       "                                    Document Name  \\\n",
       "0               ['MARKETING AFFILIATE AGREEMENT']   \n",
       "1   ['VIDEO-ON-DEMAND CONTENT LICENSE AGREEMENT']   \n",
       "2  ['CONTENT DISTRIBUTION AND LICENSE AGREEMENT']   \n",
       "3           ['WEBSITE CONTENT LICENSE AGREEMENT']   \n",
       "4                   ['CONTENT LICENSE AGREEMENT']   \n",
       "\n",
       "                         Document Name-Answer  \\\n",
       "0               MARKETING AFFILIATE AGREEMENT   \n",
       "1   VIDEO-ON-DEMAND CONTENT LICENSE AGREEMENT   \n",
       "2  CONTENT DISTRIBUTION AND LICENSE AGREEMENT   \n",
       "3           WEBSITE CONTENT LICENSE AGREEMENT   \n",
       "4                   CONTENT LICENSE AGREEMENT   \n",
       "\n",
       "                                             Parties  \\\n",
       "0  ['BIRCH FIRST GLOBAL INVESTMENTS INC.', 'MA', ...   \n",
       "1  ['EuroMedia Holdings Corp.', 'Rogers', 'Rogers...   \n",
       "2  ['Producer', 'Fulucai Productions Ltd.', 'Conv...   \n",
       "3  ['PSiTech Corporation', 'Licensor', 'Licensee'...   \n",
       "4  ['YOU ON DEMAND HOLDINGS, INC.', 'Licensor', '...   \n",
       "\n",
       "                                      Parties-Answer  \\\n",
       "0  Birch First Global Investments Inc. (\"Company\"...   \n",
       "1  Rogers Cable Communications Inc. (\"Rogers\"); E...   \n",
       "2  CONVERGTV, INC. (“ConvergTV”); Fulucai Product...   \n",
       "3  PSiTech Corporation (\"Licensor\"); Empirical Ve...   \n",
       "4  Beijing Sun Seven Stars Culture Development Li...   \n",
       "\n",
       "                           Agreement Date Agreement Date-Answer  \\\n",
       "0  ['8th day of May 2014', 'May 8, 2014']                5/8/14   \n",
       "1                      ['July 11 , 2006']               7/11/06   \n",
       "2                   ['November 15, 2012']              11/15/12   \n",
       "3                        ['Feb 10, 2014']               2/10/14   \n",
       "4                   ['December 21, 2015']              12/21/15   \n",
       "\n",
       "                                      Effective Date Effective Date-Answer  \\\n",
       "0  ['This agreement shall begin upon the date of ...                   NaN   \n",
       "1                                 ['July 11 , 2006']               7/11/06   \n",
       "2                              ['November 15, 2012']              11/15/12   \n",
       "3                                   ['Feb 10, 2014']               2/10/14   \n",
       "4                              ['December 21, 2015']              12/21/15   \n",
       "\n",
       "                                     Expiration Date  ... Liquidated Damages  \\\n",
       "0  ['This agreement shall begin upon the date of ...  ...                 []   \n",
       "1  ['The term of this Agreement (the \"Initial Ter...  ...                 []   \n",
       "2                                                 []  ...                 []   \n",
       "3  ['The initial term of this Agreement commences...  ...                 []   \n",
       "4  ['The Term of this Agreement (the \"Term\") shal...  ...                 []   \n",
       "\n",
       "  Liquidated Damages-Answer  \\\n",
       "0                        No   \n",
       "1                        No   \n",
       "2                        No   \n",
       "3                        No   \n",
       "4                        No   \n",
       "\n",
       "                                   Warranty Duration Warranty Duration-Answer  \\\n",
       "0  [\"COMPANY'S SOLE AND EXCLUSIVE LIABILITY FOR T...                      Yes   \n",
       "1                                                 []                       No   \n",
       "2                                                 []                       No   \n",
       "3                                                 []                       No   \n",
       "4                                                 []                       No   \n",
       "\n",
       "  Insurance Insurance-Answer Covenant Not To Sue Covenant Not To Sue-Answer  \\\n",
       "0        []               No                  []                         No   \n",
       "1        []               No                  []                         No   \n",
       "2        []               No                  []                         No   \n",
       "3        []               No                  []                         No   \n",
       "4        []               No                  []                         No   \n",
       "\n",
       "  Third Party Beneficiary Third Party Beneficiary-Answer  \n",
       "0                      []                             No  \n",
       "1                      []                             No  \n",
       "2                      []                             No  \n",
       "3                      []                             No  \n",
       "4                      []                             No  \n",
       "\n",
       "[5 rows x 83 columns]"
      ]
     },
     "execution_count": 7,
     "metadata": {},
     "output_type": "execute_result"
    }
   ],
   "source": [
    "cuad_master_clauses.head()"
   ]
  },
  {
   "cell_type": "markdown",
   "metadata": {},
   "source": [
    "### Adding dataset info"
   ]
  },
  {
   "cell_type": "code",
   "execution_count": null,
   "metadata": {},
   "outputs": [],
   "source": [
    "datasets[\"name\"].append(\"CUAD\")\n",
    "datasets[\"summary_file_format\"].append(\"csv\")\n",
    "datasets[\"raw_files_format\"].append(\"pdf/txt\")\n",
    "datasets[\"aggregated_files_format\"].append(\"NA\")\n",
    "datasets[\"nb_records\"].append(510)\n",
    "datasets[\"split_train_test\"].append(False)\n",
    "datasets[\"labeled\"].append(False)"
   ]
  },
  {
   "cell_type": "markdown",
   "metadata": {},
   "source": [
    "## ContractNLI"
   ]
  },
  {
   "cell_type": "markdown",
   "metadata": {},
   "source": [
    "We have 17 hypotheses annotated on 607 non-disclosure agreements (NDAs).\n",
    "The hypotheses are fixed throughout all the contracts including the test dataset.\n",
    "\n",
    "Our dataset is provided as JSON files.\n",
    "\n",
    "---\n",
    "\n",
    "The core information in our dataset is:\n",
    "* `text`: The full document text\n",
    "* `spans`: List of spans as pairs of the start and end character indices.\n",
    "* `annotation_sets`: It is provided as a list to accommodate multiple annotations per document. Since we only have a single annotation for each document, you may safely access the appropriate annotation by `document['annotation_sets'][0]['annotations']`.\n",
    "* `annotations`: Each key represents a hypothesis key. `choice` is either `Entailment`, `Contradiction` or `NotMentioned`. `spans` is given as indices of `spans` above. `spans` is empty when `choice` is `NotMentioned`.\n",
    "* `labels`: Each key represents a hypothesis key. `hypothesis` is the hypothesis text that should be used in NLI.\n",
    "\n",
    "The JSON file comes with supplemental information. Users may simply ignore the information if you are only interested in developing machine learning systems.\n",
    "* `id`: A unique ID throughout train, development and test datasets.\n",
    "* `file_name`: The filename of the original document in the dataset zip file.\n",
    "* `document_type`: One of `search-pdf` (a PDF from a search engine), `sec-text` (a text file from SEC filing) or `sec-html` (an HTML file from SEC filing).\n",
    "* `url`: The URL that we obtained the document from."
   ]
  },
  {
   "cell_type": "markdown",
   "metadata": {},
   "source": [
    "### EDA"
   ]
  },
  {
   "cell_type": "code",
   "execution_count": 9,
   "metadata": {},
   "outputs": [],
   "source": [
    "with open(f\"{candidate_datasets_path}/contract-nli/train.json\", 'r') as file:\n",
    "    contract_nli_train = json.load(file)\n",
    "\n",
    "with open(f\"{candidate_datasets_path}/contract-nli/test.json\", 'r') as file:\n",
    "    contract_nli_test = json.load(file)\n",
    "\n",
    "with open(f\"{candidate_datasets_path}/contract-nli/dev.json\", 'r') as file:\n",
    "    contract_nli_dev = json.load(file)"
   ]
  },
  {
   "cell_type": "code",
   "execution_count": 10,
   "metadata": {},
   "outputs": [
    {
     "data": {
      "text/plain": [
       "dict_keys(['documents', 'labels'])"
      ]
     },
     "execution_count": 10,
     "metadata": {},
     "output_type": "execute_result"
    }
   ],
   "source": [
    "contract_nli_train.keys()"
   ]
  },
  {
   "cell_type": "code",
   "execution_count": 11,
   "metadata": {},
   "outputs": [
    {
     "data": {
      "text/plain": [
       "607"
      ]
     },
     "execution_count": 11,
     "metadata": {},
     "output_type": "execute_result"
    }
   ],
   "source": [
    "len(contract_nli_train['documents']) + len(contract_nli_test['documents']) + len(contract_nli_dev['documents'])"
   ]
  },
  {
   "cell_type": "code",
   "execution_count": 12,
   "metadata": {},
   "outputs": [
    {
     "name": "stdout",
     "output_type": "stream",
     "text": [
      "     607\n"
     ]
    }
   ],
   "source": [
    "! ls data/candidate-datasets/contract-nli/raw | wc -l"
   ]
  },
  {
   "cell_type": "code",
   "execution_count": 13,
   "metadata": {},
   "outputs": [
    {
     "data": {
      "text/plain": [
       "{'id': 34,\n",
       " 'file_name': 'Annex E_Non-Disclosure and Confidentiality Agreement.pdf',\n",
       " 'text': \"NON-DISCLOSURE AND CONFIDENTIALITY AGREEMENT\\nThis NON-DISCLOSURE AND CONFIDENTIALITY AGREEMENT (“Agreement”) is made by and between:\\n(i) the Office of the United Nations High Commissioner for Refugees, having its headquarters located at 94 rue de Montbrillant, 1202 Geneva, Switzerland (hereinafter “UNHCR” or the “Discloser”); and\\n(ii) ________________________ , a company established in accordance with the laws of ________________________ and having its principal offices located at ________________________________________________ (hereinafter the “Bidder” or the “Recipient”).\\nThe Discloser and Recipient are also referred to collectively as the “Parties” and individually as a “Party”.\\nRECITALS\\nWHEREAS in connection with RFP/2014/620, Request for Proposal for the provision Off-the-shelf Soft-skill, IT Online and HR specific E-learning Courses (the “RFP”), it is advantageous to share certain data and information with the Bidder participating in the RFP;\\nWHEREAS UNHCR agrees to provide such data and information to the Bidder for the sole purpose of preparing its Proposal under said RFP;\\nWHEREAS the Bidder is willing to ensure that UNHCR’s data and information will be held in strict confidence and only used for the permitted purpose;\\nNOW, THEREFORE, the Parties agree as follows:\\n1. “Confidential Information”, whenever used in this Agreement, shall mean any data, document, specification and other information or material, that is delivered or disclosed by UNHCR to the Recipient in any form whatsoever, whether orally, visually in writing or otherwise (including computerized form), and that, at the time of disclosure to the Recipient, is designated as confidential.\\n2. The Confidential Information that is delivered or otherwise disclosed by the Discloser to the Recipient shall be held in trust and confidence by the Recipient and shall be handled as follows:\\n2.1 The Recipient shall use the same care and discretion to avoid disclosure, publication or dissemination of the Confidential Information as it uses with its own similar information that it does not wish to disclose, publish or disseminate;\\n2.2 The Recipient shall use the Confidential Information solely for the purpose for which it was disclosed;\\n2.3 Provided that the Recipient has a written agreement with the following persons or entities requiring them to treat the Confidential Information in accordance with this Agreement, the Recipient may disclose the Confidential Information to:\\n2.3.1 Any other party with the Discloser’s prior written consent; and\\n2.3.2 the Recipient’s employees, officials, representatives and agents who have a strict need to know the contents of the Confidential Information, and employees, officials, representatives and agents of any legal entity that it controls, controls it, or with which it is under common control, who have a similar need to know the contents of the Confidential Information, provided that, for these purposes a controlled legal entity means:\\n2.3.2.1 a corporate entity in which the Party owns or otherwise controls, whether directly or indirectly, over fifty percent (50%) of voting shares thereof; or,\\n2.3.2.2 any entity over which the Party exercises effective managerial control; or,\\n2.3.2.3 for UNHCR, a principal or subsidiary organ of the United Nations established in accordance with the Charter of the United Nations.\\n2.4 The Recipient may disclose the Confidential Information to the extent required by law, provided that, subject to and without any waiver of the privileges and immunities of UNHCR, the Recipient will give UNHCR sufficient prior notice of a request for the disclosure of the Confidential Information in order to allow UNHCR to have a reasonable opportunity to take protective measures or such other action as may be appropriate before any such disclosure is made.\\n2.5 The Recipient shall not be precluded from disclosing the Confidential Information that is (i) obtained by the Recipient without restriction from a third party who is not in breach of any obligation as to confidentiality to the owner of such Confidential Information or any other person, or (ii) disclosed by the Discloser to a third party without any obligation of confidentiality, or (iii) previously known by the Recipient, or (iv) at any time is developed by the Recipient completely independently of any disclosures hereunder.\\n2.6 The Recipient will not copy or reproduce the Confidential Information except as reasonably required for the purposes contemplated in this Agreement, and will ensure that any confidentiality or other proprietary rights notices on the Confidential Information are reproduced on all copies.\\n3. The Recipient acknowledges that UNHCR hereto makes no any representation or warranty, express or implied, as to the accuracy or completeness of the Confidential Information.\\n4. Nothing in this Agreement is to be construed as granting the Recipient, by implication or otherwise, any right whatsoever with respect to the Confidential Information or part thereof.\\n5. All Confidential Information in any form and any medium, including all copies thereof, disclosed to the Recipient shall be returned to UNHCR or destroyed: (a) if a business relationship is not entered into with UNHCR on or before the date which is three (3) months after the date both Parties have signed the Agreement; or (b) promptly upon request by the UNHCR at any time.\\n6. The Recipient agrees to indemnify UNHCR in respect of any expenses, losses, damages, costs, claims or liability UNHCR may suffer or incur as a result of an act or omission by the Recipient or its employees, consultants and agents in connection with the Confidential Information and the Recipient’s obligations under this Agreement.\\n7. Nothing in this Agreement shall be construed as obligating any Party to continue any discussions or to enter into a business relationship.\\n8. This Agreement shall enter into force on the date it is signed by both Parties. Either Party may terminate the working relationship contemplated by this Agreement by providing written notice to the other, provided, however, that the obligations and restrictions hereunder regarding the Confidential Information shall remain effective following any such termination or any other termination or expiration of this Agreement.\\n9. Any dispute, controversy or claim between the Parties arising out of, this Agreement or the breach, termination or invalidity thereof, unless settled amicably within twenty (20) days after receipt by one Party of the other Party's request for such amicable settlement, shall be referred by either Party to arbitration in accordance with the UNCITRAL Arbitration Rules then obtaining, including provisions on applicable law. The arbitral tribunal shall have no authority to award punitive damages. In addition, unless otherwise expressly provided in this Agreement, the arbitral tribunal shall have no authority to award interest. The Parties shall be bound by any arbitration award rendered as a result of such arbitration as the final adjudication of any such controversy, claim or dispute.\\n10. Nothing in or relating to this Agreement shall be deemed a waiver, express or implied, of any of the privileges and immunities of the United Nations, including UNHCR as its subsidiary organ.\\n11. The Recipient shall not advertise or otherwise make public the fact that it has a confidential relationship with UNHCR, nor shall the Recipient, in any manner whatsoever use the name, emblem, or official seal of the United Nations or UNHCR, or any abbreviation of the name of the United Nations or UNHCR in connection with its business or otherwise.\\n12. If any provision of this Agreement shall be held to be invalid, illegal or unenforceable, the validity, legality and enforceability of the remaining provisions shall not in any way be affected or impaired.\\n13. This Agreement constitutes the entire agreement concerning the subject matter hereof above and supersedes all prior representations, agreements and understandings, whether written or oral, by and between the Parties on the subject hereof.\\n14. The Parties acknowledge and agree that their representatives who have signed this Agreement had full authority to do so and to fully bind the Party being represented by doing so.\\nIN WITNESS WHEREOF, the Parties, acting through their authorized representatives, have caused this Agreement to be signed on the dates set forth below:\\nFor and on behalf of UNHCR: For and on behalf of the Bidder:\\n________________________ ________________________\\n Name: Name:\\nTitle: Title:\\n Date: Date:\\n\",\n",
       " 'spans': [[0, 44],\n",
       "  [45, 132],\n",
       "  [133, 331],\n",
       "  [332, 417],\n",
       "  [417, 486],\n",
       "  [486, 535],\n",
       "  [535, 581],\n",
       "  [582, 691],\n",
       "  [692, 700],\n",
       "  [701, 963],\n",
       "  [964, 1098],\n",
       "  [1099, 1107],\n",
       "  [1107, 1247],\n",
       "  [1248, 1293],\n",
       "  [1294, 1683],\n",
       "  [1684, 1878],\n",
       "  [1879, 1883],\n",
       "  [1883, 2120],\n",
       "  [2121, 2125],\n",
       "  [2125, 2228],\n",
       "  [2229, 2471],\n",
       "  [2472, 2478],\n",
       "  [2478, 2541],\n",
       "  [2542, 2980],\n",
       "  [2981, 3141],\n",
       "  [3142, 3225],\n",
       "  [3226, 3364],\n",
       "  [3365, 3369],\n",
       "  [3369, 3829],\n",
       "  [3830, 3834],\n",
       "  [3834, 3924],\n",
       "  [3924, 4124],\n",
       "  [4124, 4219],\n",
       "  [4219, 4263],\n",
       "  [4263, 4364],\n",
       "  [4365, 4369],\n",
       "  [4369, 4656],\n",
       "  [4657, 4833],\n",
       "  [4834, 5020],\n",
       "  [5021, 5179],\n",
       "  [5179, 5347],\n",
       "  [5347, 5398],\n",
       "  [5399, 5733],\n",
       "  [5734, 5875],\n",
       "  [5876, 5959],\n",
       "  [5959, 6301],\n",
       "  [6302, 6729],\n",
       "  [6729, 6802],\n",
       "  [6802, 6935],\n",
       "  [6935, 7096],\n",
       "  [7097, 7291],\n",
       "  [7292, 7645],\n",
       "  [7646, 7855],\n",
       "  [7856, 8098],\n",
       "  [8099, 8281],\n",
       "  [8282, 8433],\n",
       "  [8434, 8494],\n",
       "  [8495, 8520],\n",
       "  [8520, 8544],\n",
       "  [8545, 8546],\n",
       "  [8546, 8557],\n",
       "  [8558, 8571],\n",
       "  [8572, 8573],\n",
       "  [8573, 8579],\n",
       "  [8579, 8584]],\n",
       " 'annotation_sets': [{'annotations': {'nda-11': {'choice': 'NotMentioned',\n",
       "     'spans': []},\n",
       "    'nda-16': {'choice': 'Entailment', 'spans': [39, 40]},\n",
       "    'nda-15': {'choice': 'Entailment', 'spans': [38]},\n",
       "    'nda-10': {'choice': 'Entailment', 'spans': [51]},\n",
       "    'nda-2': {'choice': 'NotMentioned', 'spans': []},\n",
       "    'nda-1': {'choice': 'Entailment', 'spans': [14]},\n",
       "    'nda-19': {'choice': 'Entailment', 'spans': [45]},\n",
       "    'nda-12': {'choice': 'Entailment', 'spans': [30, 34]},\n",
       "    'nda-20': {'choice': 'NotMentioned', 'spans': []},\n",
       "    'nda-3': {'choice': 'Entailment', 'spans': [14]},\n",
       "    'nda-18': {'choice': 'NotMentioned', 'spans': []},\n",
       "    'nda-7': {'choice': 'Entailment', 'spans': [20, 23]},\n",
       "    'nda-17': {'choice': 'Entailment', 'spans': [36]},\n",
       "    'nda-8': {'choice': 'Entailment', 'spans': [28]},\n",
       "    'nda-13': {'choice': 'Entailment', 'spans': [30, 31]},\n",
       "    'nda-5': {'choice': 'Entailment', 'spans': [20, 23, 25]},\n",
       "    'nda-4': {'choice': 'Entailment', 'spans': [19]}}}],\n",
       " 'document_type': 'search-pdf',\n",
       " 'url': 'https://www.ungm.org/UNUser/Documents/DownloadPublicDocument?docId=287983'}"
      ]
     },
     "execution_count": 13,
     "metadata": {},
     "output_type": "execute_result"
    }
   ],
   "source": [
    "contract_nli_train['documents'][0]"
   ]
  },
  {
   "cell_type": "markdown",
   "metadata": {},
   "source": [
    "### Adding dataset info"
   ]
  },
  {
   "cell_type": "code",
   "execution_count": null,
   "metadata": {},
   "outputs": [],
   "source": [
    "datasets[\"name\"].append(\"ContractNLI\")\n",
    "datasets[\"summary_file_format\"].append(\"NA\")\n",
    "datasets[\"raw_files_format\"].append(\"pdf/htm/txt\")\n",
    "datasets[\"aggregated_files_format\"].append(\"json\")\n",
    "datasets[\"nb_records\"].append(607)\n",
    "datasets[\"split_train_test\"].append(True)\n",
    "datasets[\"labeled\"].append(True)"
   ]
  },
  {
   "cell_type": "markdown",
   "metadata": {},
   "source": [
    "## Legal Clauses"
   ]
  },
  {
   "cell_type": "markdown",
   "metadata": {},
   "source": [
    "The data source is from was scraped from contracts website where I have collected over 21k legal clauses from 16 type of clauses that are related to ‘finance’. I used python using different type of libraries for scraping since the website keep blocking automated querying from the website, so I used selenium library to extract clause text and clause type."
   ]
  },
  {
   "cell_type": "markdown",
   "metadata": {},
   "source": [
    "### EDA"
   ]
  },
  {
   "cell_type": "code",
   "execution_count": 15,
   "metadata": {},
   "outputs": [],
   "source": [
    "legal_clauses = pd.read_csv(f\"{candidate_datasets_path}/legal-clauses/legal_docs.csv\", index_col=0)"
   ]
  },
  {
   "cell_type": "code",
   "execution_count": 16,
   "metadata": {},
   "outputs": [
    {
     "data": {
      "text/plain": [
       "(21187, 4)"
      ]
     },
     "execution_count": 16,
     "metadata": {},
     "output_type": "execute_result"
    }
   ],
   "source": [
    "legal_clauses.shape"
   ]
  },
  {
   "cell_type": "code",
   "execution_count": 17,
   "metadata": {},
   "outputs": [
    {
     "data": {
      "text/html": [
       "<div>\n",
       "<style scoped>\n",
       "    .dataframe tbody tr th:only-of-type {\n",
       "        vertical-align: middle;\n",
       "    }\n",
       "\n",
       "    .dataframe tbody tr th {\n",
       "        vertical-align: top;\n",
       "    }\n",
       "\n",
       "    .dataframe thead th {\n",
       "        text-align: right;\n",
       "    }\n",
       "</style>\n",
       "<table border=\"1\" class=\"dataframe\">\n",
       "  <thead>\n",
       "    <tr style=\"text-align: right;\">\n",
       "      <th></th>\n",
       "      <th>clause_text</th>\n",
       "      <th>clause_type</th>\n",
       "      <th>totalwords</th>\n",
       "      <th>totalletters</th>\n",
       "    </tr>\n",
       "  </thead>\n",
       "  <tbody>\n",
       "    <tr>\n",
       "      <th>0</th>\n",
       "      <td>Make any Investments, except:</td>\n",
       "      <td>investments</td>\n",
       "      <td>4.0</td>\n",
       "      <td>30.0</td>\n",
       "    </tr>\n",
       "    <tr>\n",
       "      <th>1</th>\n",
       "      <td>No more than 45% of the “value” (as defined i...</td>\n",
       "      <td>investments</td>\n",
       "      <td>76.0</td>\n",
       "      <td>460.0</td>\n",
       "    </tr>\n",
       "    <tr>\n",
       "      <th>2</th>\n",
       "      <td>Make or hold any Investments, except:</td>\n",
       "      <td>investments</td>\n",
       "      <td>6.0</td>\n",
       "      <td>38.0</td>\n",
       "    </tr>\n",
       "    <tr>\n",
       "      <th>3</th>\n",
       "      <td>The SubAdviser is hereby authorized and direc...</td>\n",
       "      <td>investments</td>\n",
       "      <td>228.0</td>\n",
       "      <td>1474.0</td>\n",
       "    </tr>\n",
       "    <tr>\n",
       "      <th>4</th>\n",
       "      <td>Make any advance, loan, extension of credit (...</td>\n",
       "      <td>investments</td>\n",
       "      <td>52.0</td>\n",
       "      <td>329.0</td>\n",
       "    </tr>\n",
       "  </tbody>\n",
       "</table>\n",
       "</div>"
      ],
      "text/plain": [
       "                                         clause_text  clause_type  totalwords  \\\n",
       "0                      Make any Investments, except:  investments         4.0   \n",
       "1   No more than 45% of the “value” (as defined i...  investments        76.0   \n",
       "2              Make or hold any Investments, except:  investments         6.0   \n",
       "3   The SubAdviser is hereby authorized and direc...  investments       228.0   \n",
       "4   Make any advance, loan, extension of credit (...  investments        52.0   \n",
       "\n",
       "   totalletters  \n",
       "0          30.0  \n",
       "1         460.0  \n",
       "2          38.0  \n",
       "3        1474.0  \n",
       "4         329.0  "
      ]
     },
     "execution_count": 17,
     "metadata": {},
     "output_type": "execute_result"
    }
   ],
   "source": [
    "legal_clauses.head()"
   ]
  },
  {
   "cell_type": "markdown",
   "metadata": {},
   "source": [
    "### Adding dataset info"
   ]
  },
  {
   "cell_type": "code",
   "execution_count": null,
   "metadata": {},
   "outputs": [],
   "source": [
    "datasets[\"name\"].append(\"Legal-Clauses\")\n",
    "datasets[\"summary_file_format\"].append(\"NA\")\n",
    "datasets[\"raw_files_format\"].append(\"NA\")\n",
    "datasets[\"aggregated_files_format\"].append(\"csv\")\n",
    "datasets[\"nb_records\"].append(21187)\n",
    "datasets[\"split_train_test\"].append(False)\n",
    "datasets[\"labeled\"].append(True)"
   ]
  },
  {
   "cell_type": "markdown",
   "metadata": {},
   "source": [
    "## LEDGAR"
   ]
  },
  {
   "cell_type": "markdown",
   "metadata": {},
   "source": [
    "The LEDGAR dataset, which is a annotated dataset consisting of annotated clauses from contracts. The corpus was crawled and scraped from the public domain (SEC filings)."
   ]
  },
  {
   "cell_type": "markdown",
   "metadata": {},
   "source": [
    "### EDA"
   ]
  },
  {
   "cell_type": "code",
   "execution_count": 19,
   "metadata": {},
   "outputs": [],
   "source": [
    "ledgar = load_dataset(\"MAdAiLab/lex_glue_ledgar\")"
   ]
  },
  {
   "cell_type": "code",
   "execution_count": 20,
   "metadata": {},
   "outputs": [
    {
     "data": {
      "text/plain": [
       "DatasetDict({\n",
       "    train: Dataset({\n",
       "        features: ['text', 'label'],\n",
       "        num_rows: 60000\n",
       "    })\n",
       "    test: Dataset({\n",
       "        features: ['text', 'label'],\n",
       "        num_rows: 10000\n",
       "    })\n",
       "    validation: Dataset({\n",
       "        features: ['text', 'label'],\n",
       "        num_rows: 10000\n",
       "    })\n",
       "})"
      ]
     },
     "execution_count": 20,
     "metadata": {},
     "output_type": "execute_result"
    }
   ],
   "source": [
    "ledgar"
   ]
  },
  {
   "cell_type": "code",
   "execution_count": 21,
   "metadata": {},
   "outputs": [
    {
     "data": {
      "text/plain": [
       "80000"
      ]
     },
     "execution_count": 21,
     "metadata": {},
     "output_type": "execute_result"
    }
   ],
   "source": [
    "60000 + 10000 + 10000"
   ]
  },
  {
   "cell_type": "code",
   "execution_count": 22,
   "metadata": {},
   "outputs": [
    {
     "data": {
      "text/plain": [
       "{'text': 'Except as otherwise set forth in this Debenture, the Company, for itself and its legal representatives, successors and assigns, expressly waives presentment, protest, demand, notice of dishonor, notice of nonpayment, notice of maturity, notice of protest, presentment for the purpose of accelerating maturity, and diligence in collection.',\n",
       " 'label': 97}"
      ]
     },
     "execution_count": 22,
     "metadata": {},
     "output_type": "execute_result"
    }
   ],
   "source": [
    "ledgar['train'][0]"
   ]
  },
  {
   "cell_type": "markdown",
   "metadata": {},
   "source": [
    "### Adding dataset info"
   ]
  },
  {
   "cell_type": "code",
   "execution_count": null,
   "metadata": {},
   "outputs": [],
   "source": [
    "datasets[\"name\"].append(\"LEDGAR\")\n",
    "datasets[\"summary_file_format\"].append(\"NA\")\n",
    "datasets[\"raw_files_format\"].append(\"NA\")\n",
    "datasets[\"aggregated_files_format\"].append(\"huggingface-dataset\")\n",
    "datasets[\"nb_records\"].append(80000)\n",
    "datasets[\"split_train_test\"].append(True)\n",
    "datasets[\"labeled\"].append(True)"
   ]
  },
  {
   "cell_type": "markdown",
   "metadata": {},
   "source": [
    "## ToSDR Corpus"
   ]
  },
  {
   "cell_type": "markdown",
   "metadata": {},
   "source": [
    "This repository contains a corpus of 12,215 terms of service (TOS) documents, which were scraped from the [TOSDR website](https://edit.tosdr.org/documents) using the Beautiful Soup and Requests libraries in Python. The dataset includes both HTML and text versions of the documents.\n",
    "\n",
    "The data collection process involved retrieving the document text from TOSDR, saving it in an HTML file, removing non-English files detected through the LangDetect library, removing files less than 2B in size and less than 6 words, and converting the remaining files to a text format."
   ]
  },
  {
   "cell_type": "markdown",
   "metadata": {},
   "source": [
    "### EDA"
   ]
  },
  {
   "cell_type": "code",
   "execution_count": 24,
   "metadata": {},
   "outputs": [
    {
     "name": "stdout",
     "output_type": "stream",
     "text": [
      "   12215\n",
      "    9496\n"
     ]
    }
   ],
   "source": [
    "! ls data/candidate-datasets/tosdr-terms-of-service-corpus-main/corpus/html | wc -l\n",
    "! ls data/candidate-datasets/tosdr-terms-of-service-corpus-main/corpus/text | wc -l"
   ]
  },
  {
   "cell_type": "markdown",
   "metadata": {},
   "source": [
    "### Example record"
   ]
  },
  {
   "cell_type": "code",
   "execution_count": null,
   "metadata": {},
   "outputs": [],
   "source": []
  },
  {
   "cell_type": "markdown",
   "metadata": {},
   "source": [
    "### Adding dataset info"
   ]
  },
  {
   "cell_type": "code",
   "execution_count": null,
   "metadata": {},
   "outputs": [],
   "source": [
    "datasets[\"name\"].append(\"ToSDR-corpus\")\n",
    "datasets[\"summary_file_format\"].append(\"NA\")\n",
    "datasets[\"raw_files_format\"].append(\"txt/html\")\n",
    "datasets[\"aggregated_files_format\"].append(\"NA\")\n",
    "datasets[\"nb_records\"].append(12215)\n",
    "datasets[\"split_train_test\"].append(False)\n",
    "datasets[\"labeled\"].append(False)"
   ]
  },
  {
   "cell_type": "markdown",
   "metadata": {},
   "source": [
    "## ToSDR Service API"
   ]
  },
  {
   "cell_type": "markdown",
   "metadata": {},
   "source": [
    "needed ?"
   ]
  },
  {
   "cell_type": "code",
   "execution_count": null,
   "metadata": {},
   "outputs": [],
   "source": []
  },
  {
   "cell_type": "markdown",
   "metadata": {},
   "source": [
    "## ToS Summaries"
   ]
  },
  {
   "cell_type": "markdown",
   "metadata": {},
   "source": [
    "In this dataset, I have compiled Terms of Service Agreements, each accompanied by human-annotated summaries.\n",
    "\n",
    "The data were scraped from [tosdr.org](https://tosdr.org/en).\n",
    "\n",
    "The primary aim of this dataset is to assist in the simplification/summarization of complex and lengthy Terms of Service Agreements, thereby making them more accessible and understandable for users."
   ]
  },
  {
   "cell_type": "markdown",
   "metadata": {},
   "source": [
    "### Loading the data"
   ]
  },
  {
   "cell_type": "code",
   "execution_count": null,
   "metadata": {},
   "outputs": [],
   "source": [
    "tos_summaries = []\n",
    "\n",
    "with open(f\"{candidate_datasets_path}/tos-summaries/dataset.json\", 'r', encoding='utf-8') as f:\n",
    "    for line in f:\n",
    "        record = json.loads(line)\n",
    "        tos_summaries.append(record)"
   ]
  },
  {
   "cell_type": "markdown",
   "metadata": {},
   "source": [
    "### EDA"
   ]
  },
  {
   "cell_type": "code",
   "execution_count": 27,
   "metadata": {},
   "outputs": [
    {
     "data": {
      "text/plain": [
       "901"
      ]
     },
     "execution_count": 27,
     "metadata": {},
     "output_type": "execute_result"
    }
   ],
   "source": [
    "len(tos_summaries)"
   ]
  },
  {
   "cell_type": "markdown",
   "metadata": {},
   "source": [
    "### Example record"
   ]
  },
  {
   "cell_type": "code",
   "execution_count": null,
   "metadata": {},
   "outputs": [],
   "source": [
    "tos_summaries[0]"
   ]
  },
  {
   "cell_type": "markdown",
   "metadata": {},
   "source": [
    "### Adding dataset info"
   ]
  },
  {
   "cell_type": "code",
   "execution_count": null,
   "metadata": {},
   "outputs": [],
   "source": [
    "datasets[\"name\"].append(\"ToS-summaries\")\n",
    "datasets[\"summary_file_format\"].append(\"NA\")\n",
    "datasets[\"raw_files_format\"].append(\"NA\")\n",
    "datasets[\"aggregated_files_format\"].append(\"json\")\n",
    "datasets[\"nb_records\"].append(901)\n",
    "datasets[\"split_train_test\"].append(False)\n",
    "datasets[\"labeled\"].append(False)"
   ]
  },
  {
   "cell_type": "markdown",
   "metadata": {},
   "source": [
    "## Privacy Policies Dataset"
   ]
  },
  {
   "cell_type": "markdown",
   "metadata": {},
   "source": [
    "Research question: Does the wording of a privacy policy enable the user to know:\n",
    "(i)\twhat data precisely will be collected;\n",
    "(ii)\tin what ways, precisely, the data will be used;\n",
    "(iii)\twhat data will be used in what way OR is the wording such that the company enjoys significant flexibility in (i) what they collect; (ii) in what ways they can use the data, and (iii) what data they can use in what way or for what purpose?\n",
    "\n",
    "TAGGING CATEGORIES\n",
    "\n",
    "| Codename      | Description                                                                                                                                                                                                                             | Values   |\n",
    "|---------------|-----------------------------------------------------------------------------------------------------------------------------------------------------------------------------------------------------------------------------------------|----------|\n",
    "| GenData       | Is there a clause describing what categories of data are collected that deploys such a general term, potentially followed by an open catalogue of examples, that it is not clear to the consumer what kinds of information will be gathered? | Yes: 1<br>No: 0 |\n",
    "| GenUse        | Is there a clause describing the ways in which data will be used that deploys such a general term, potentially followed by an open catalogue of example, that is not clear to the consumer how exactly her data will be used?            | Yes: 1<br>No: 0 |\n",
    "| NoDistinction | Does the privacy policy feature clauses describing how data will be used that do not explain what data exactly will be used in what way or for what purpose                                                                             | Yes: 1<br>No: 0 |\n",
    "\n",
    "\n",
    "For each category, a separate cells for identified clause examples were included in the table. They include up to 3 clauses that were identified with “1” during the course of privacy policy analysis.\n"
   ]
  },
  {
   "cell_type": "markdown",
   "metadata": {},
   "source": [
    "### Loading the data"
   ]
  },
  {
   "cell_type": "code",
   "execution_count": null,
   "metadata": {},
   "outputs": [],
   "source": [
    "privacy_policies1 = pd.read_excel(f\"{candidate_datasets_path}/annotated-privacy-policies-of-100-online-platforms/PP_table Tagger1.xlsx\")\n",
    "privacy_policies2 = pd.read_excel(f\"{candidate_datasets_path}/annotated-privacy-policies-of-100-online-platforms/PP_table Tagger2.xlsx\")"
   ]
  },
  {
   "cell_type": "markdown",
   "metadata": {},
   "source": [
    "### EDA"
   ]
  },
  {
   "cell_type": "code",
   "execution_count": 30,
   "metadata": {},
   "outputs": [
    {
     "name": "stdout",
     "output_type": "stream",
     "text": [
      "(100, 20)\n",
      "(100, 20)\n"
     ]
    }
   ],
   "source": [
    "print(privacy_policies1.shape)\n",
    "print(privacy_policies2.shape)"
   ]
  },
  {
   "cell_type": "code",
   "execution_count": 31,
   "metadata": {},
   "outputs": [
    {
     "name": "stdout",
     "output_type": "stream",
     "text": [
      "      97\n",
      "      98\n"
     ]
    }
   ],
   "source": [
    "! ls \"data/candidate-datasets/annotated-privacy-policies-of-100-online-platforms/Tagger 1/\" | wc -l\n",
    "! ls \"data/candidate-datasets/annotated-privacy-policies-of-100-online-platforms/Tagger 2/\" | wc -l"
   ]
  },
  {
   "cell_type": "markdown",
   "metadata": {},
   "source": [
    "### Example record"
   ]
  },
  {
   "cell_type": "code",
   "execution_count": 32,
   "metadata": {},
   "outputs": [
    {
     "data": {
      "text/html": [
       "<div>\n",
       "<style scoped>\n",
       "    .dataframe tbody tr th:only-of-type {\n",
       "        vertical-align: middle;\n",
       "    }\n",
       "\n",
       "    .dataframe tbody tr th {\n",
       "        vertical-align: top;\n",
       "    }\n",
       "\n",
       "    .dataframe thead th {\n",
       "        text-align: right;\n",
       "    }\n",
       "</style>\n",
       "<table border=\"1\" class=\"dataframe\">\n",
       "  <thead>\n",
       "    <tr style=\"text-align: right;\">\n",
       "      <th></th>\n",
       "      <th>ID</th>\n",
       "      <th>name</th>\n",
       "      <th>url</th>\n",
       "      <th>date</th>\n",
       "      <th>secto</th>\n",
       "      <th>hq</th>\n",
       "      <th>hq_cat</th>\n",
       "      <th>publ</th>\n",
       "      <th>GenData</th>\n",
       "      <th>GenUse</th>\n",
       "      <th>NoDist</th>\n",
       "      <th>DataExamp1</th>\n",
       "      <th>DataExamp2</th>\n",
       "      <th>DataExamp3</th>\n",
       "      <th>GenUse1</th>\n",
       "      <th>GenUse2</th>\n",
       "      <th>GenUse3</th>\n",
       "      <th>NoDist1</th>\n",
       "      <th>NoDist2</th>\n",
       "      <th>NoDist3</th>\n",
       "    </tr>\n",
       "  </thead>\n",
       "  <tbody>\n",
       "    <tr>\n",
       "      <th>0</th>\n",
       "      <td>NaN</td>\n",
       "      <td>Baidu AI Cloud</td>\n",
       "      <td>https://intl.cloud.baidu.com/doc/Agreements/in...</td>\n",
       "      <td>2020-11-02 00:00:00</td>\n",
       "      <td>Cloud storage</td>\n",
       "      <td>China</td>\n",
       "      <td>Other</td>\n",
       "      <td>Public</td>\n",
       "      <td>1.0</td>\n",
       "      <td>1.0</td>\n",
       "      <td>1.0</td>\n",
       "      <td>Operation and support information. Baidu AI Cl...</td>\n",
       "      <td>To improve services, Baidu AI Cloud records yo...</td>\n",
       "      <td>8. Please note: In the following circumstances...</td>\n",
       "      <td>We use the collected information to provide an...</td>\n",
       "      <td>We will use the data for research for public i...</td>\n",
       "      <td>We share personal data with suppliers or partn...</td>\n",
       "      <td>In order to improve the security of your use o...</td>\n",
       "      <td>We use the collected information to provide an...</td>\n",
       "      <td>We will use the data for research for public i...</td>\n",
       "    </tr>\n",
       "    <tr>\n",
       "      <th>1</th>\n",
       "      <td>NaN</td>\n",
       "      <td>Dropbox</td>\n",
       "      <td>https://www.dropbox.com/privacy</td>\n",
       "      <td>2022-01-14 00:00:00</td>\n",
       "      <td>Cloud storage</td>\n",
       "      <td>US</td>\n",
       "      <td>US</td>\n",
       "      <td>Public</td>\n",
       "      <td>1.0</td>\n",
       "      <td>1.0</td>\n",
       "      <td>1.0</td>\n",
       "      <td>We collect information related to how you use ...</td>\n",
       "      <td>Your devices (depending on their settings) may...</td>\n",
       "      <td>NaN</td>\n",
       "      <td>We collect and use the following information t...</td>\n",
       "      <td>We collect and use the personal data described...</td>\n",
       "      <td>We also collect anduse personal data for our l...</td>\n",
       "      <td>We collect and use the following information t...</td>\n",
       "      <td>We collect and use the personal data described...</td>\n",
       "      <td>We also collect anduse personal data for our l...</td>\n",
       "    </tr>\n",
       "    <tr>\n",
       "      <th>2</th>\n",
       "      <td>NaN</td>\n",
       "      <td>iCloud</td>\n",
       "      <td>https://www.apple.com/uk/legal/internet-servic...</td>\n",
       "      <td>NaN</td>\n",
       "      <td>Cloud storage</td>\n",
       "      <td>US</td>\n",
       "      <td>US</td>\n",
       "      <td>Public</td>\n",
       "      <td>NaN</td>\n",
       "      <td>NaN</td>\n",
       "      <td>NaN</td>\n",
       "      <td>NaN</td>\n",
       "      <td>NaN</td>\n",
       "      <td>NaN</td>\n",
       "      <td>NaN</td>\n",
       "      <td>NaN</td>\n",
       "      <td>NaN</td>\n",
       "      <td>NaN</td>\n",
       "      <td>NaN</td>\n",
       "      <td>NaN</td>\n",
       "    </tr>\n",
       "    <tr>\n",
       "      <th>3</th>\n",
       "      <td>NaN</td>\n",
       "      <td>Oktawave</td>\n",
       "      <td>https://oktawave.com/en/company/legal/privacy-...</td>\n",
       "      <td>2019-07-25 00:00:00</td>\n",
       "      <td>Cloud storage</td>\n",
       "      <td>Poland</td>\n",
       "      <td>Poland</td>\n",
       "      <td>Private</td>\n",
       "      <td>1.0</td>\n",
       "      <td>1.0</td>\n",
       "      <td>1.0</td>\n",
       "      <td>In case of events organization, whether physic...</td>\n",
       "      <td>Data that has been\\nsubjected to the\\nbreach a...</td>\n",
       "      <td>NaN</td>\n",
       "      <td>The above-mentioned data may be processed for ...</td>\n",
       "      <td>These data are collected to organise the\\neven...</td>\n",
       "      <td>Anonymisation for\\nresearch and\\ndevelopment,\\...</td>\n",
       "      <td>Potentially any data\\nsubject to this policy</td>\n",
       "      <td>NaN</td>\n",
       "      <td>NaN</td>\n",
       "    </tr>\n",
       "    <tr>\n",
       "      <th>4</th>\n",
       "      <td>NaN</td>\n",
       "      <td>OVH</td>\n",
       "      <td>https://www.ovh.ie/personal-data-protection/pr...</td>\n",
       "      <td>NaN</td>\n",
       "      <td>Cloud storage</td>\n",
       "      <td>France</td>\n",
       "      <td>EU</td>\n",
       "      <td>Public</td>\n",
       "      <td>1.0</td>\n",
       "      <td>1.0</td>\n",
       "      <td>1.0</td>\n",
       "      <td>Other information you provide directly to us. ...</td>\n",
       "      <td>Other information that we collect automaticall...</td>\n",
       "      <td>We may receive information from cookies (small...</td>\n",
       "      <td>Certain features, like contact syncing, may re...</td>\n",
       "      <td>Functional Cookies: These help us provide enha...</td>\n",
       "      <td>To protect our services. We use information to...</td>\n",
       "      <td>To provide you with the services. We use your ...</td>\n",
       "      <td>To do so, we\\nuse your information to monitor ...</td>\n",
       "      <td>To personalize the product. We use your inform...</td>\n",
       "    </tr>\n",
       "  </tbody>\n",
       "</table>\n",
       "</div>"
      ],
      "text/plain": [
       "   ID            name                                                url  \\\n",
       "0 NaN  Baidu AI Cloud  https://intl.cloud.baidu.com/doc/Agreements/in...   \n",
       "1 NaN         Dropbox                    https://www.dropbox.com/privacy   \n",
       "2 NaN          iCloud  https://www.apple.com/uk/legal/internet-servic...   \n",
       "3 NaN        Oktawave  https://oktawave.com/en/company/legal/privacy-...   \n",
       "4 NaN             OVH  https://www.ovh.ie/personal-data-protection/pr...   \n",
       "\n",
       "                  date          secto      hq  hq_cat     publ  GenData  \\\n",
       "0  2020-11-02 00:00:00  Cloud storage   China   Other   Public      1.0   \n",
       "1  2022-01-14 00:00:00  Cloud storage      US      US   Public      1.0   \n",
       "2                  NaN  Cloud storage      US      US   Public      NaN   \n",
       "3  2019-07-25 00:00:00  Cloud storage  Poland  Poland  Private      1.0   \n",
       "4                  NaN  Cloud storage  France      EU   Public      1.0   \n",
       "\n",
       "   GenUse  NoDist                                         DataExamp1  \\\n",
       "0     1.0     1.0  Operation and support information. Baidu AI Cl...   \n",
       "1     1.0     1.0  We collect information related to how you use ...   \n",
       "2     NaN     NaN                                                NaN   \n",
       "3     1.0     1.0  In case of events organization, whether physic...   \n",
       "4     1.0     1.0  Other information you provide directly to us. ...   \n",
       "\n",
       "                                          DataExamp2  \\\n",
       "0  To improve services, Baidu AI Cloud records yo...   \n",
       "1  Your devices (depending on their settings) may...   \n",
       "2                                                NaN   \n",
       "3  Data that has been\\nsubjected to the\\nbreach a...   \n",
       "4  Other information that we collect automaticall...   \n",
       "\n",
       "                                          DataExamp3  \\\n",
       "0  8. Please note: In the following circumstances...   \n",
       "1                                                NaN   \n",
       "2                                                NaN   \n",
       "3                                                NaN   \n",
       "4  We may receive information from cookies (small...   \n",
       "\n",
       "                                             GenUse1  \\\n",
       "0  We use the collected information to provide an...   \n",
       "1  We collect and use the following information t...   \n",
       "2                                                NaN   \n",
       "3  The above-mentioned data may be processed for ...   \n",
       "4  Certain features, like contact syncing, may re...   \n",
       "\n",
       "                                             GenUse2  \\\n",
       "0  We will use the data for research for public i...   \n",
       "1  We collect and use the personal data described...   \n",
       "2                                                NaN   \n",
       "3  These data are collected to organise the\\neven...   \n",
       "4  Functional Cookies: These help us provide enha...   \n",
       "\n",
       "                                             GenUse3  \\\n",
       "0  We share personal data with suppliers or partn...   \n",
       "1  We also collect anduse personal data for our l...   \n",
       "2                                                NaN   \n",
       "3  Anonymisation for\\nresearch and\\ndevelopment,\\...   \n",
       "4  To protect our services. We use information to...   \n",
       "\n",
       "                                             NoDist1  \\\n",
       "0  In order to improve the security of your use o...   \n",
       "1  We collect and use the following information t...   \n",
       "2                                                NaN   \n",
       "3       Potentially any data\\nsubject to this policy   \n",
       "4  To provide you with the services. We use your ...   \n",
       "\n",
       "                                             NoDist2  \\\n",
       "0  We use the collected information to provide an...   \n",
       "1  We collect and use the personal data described...   \n",
       "2                                                NaN   \n",
       "3                                                NaN   \n",
       "4  To do so, we\\nuse your information to monitor ...   \n",
       "\n",
       "                                             NoDist3  \n",
       "0  We will use the data for research for public i...  \n",
       "1  We also collect anduse personal data for our l...  \n",
       "2                                                NaN  \n",
       "3                                                NaN  \n",
       "4  To personalize the product. We use your inform...  "
      ]
     },
     "execution_count": 32,
     "metadata": {},
     "output_type": "execute_result"
    }
   ],
   "source": [
    "privacy_policies1.head()"
   ]
  },
  {
   "cell_type": "code",
   "execution_count": 33,
   "metadata": {},
   "outputs": [
    {
     "data": {
      "text/html": [
       "<div>\n",
       "<style scoped>\n",
       "    .dataframe tbody tr th:only-of-type {\n",
       "        vertical-align: middle;\n",
       "    }\n",
       "\n",
       "    .dataframe tbody tr th {\n",
       "        vertical-align: top;\n",
       "    }\n",
       "\n",
       "    .dataframe thead th {\n",
       "        text-align: right;\n",
       "    }\n",
       "</style>\n",
       "<table border=\"1\" class=\"dataframe\">\n",
       "  <thead>\n",
       "    <tr style=\"text-align: right;\">\n",
       "      <th></th>\n",
       "      <th>ID</th>\n",
       "      <th>name</th>\n",
       "      <th>url</th>\n",
       "      <th>date</th>\n",
       "      <th>secto</th>\n",
       "      <th>hq</th>\n",
       "      <th>hq_cat</th>\n",
       "      <th>publ</th>\n",
       "      <th>GenData</th>\n",
       "      <th>GenUse</th>\n",
       "      <th>NoDist</th>\n",
       "      <th>DataExamp1</th>\n",
       "      <th>DataExamp2</th>\n",
       "      <th>DataExamp3</th>\n",
       "      <th>GenUse1</th>\n",
       "      <th>GenUse2</th>\n",
       "      <th>GenUse3</th>\n",
       "      <th>NoDist1</th>\n",
       "      <th>NoDist2</th>\n",
       "      <th>NoDist3</th>\n",
       "    </tr>\n",
       "  </thead>\n",
       "  <tbody>\n",
       "    <tr>\n",
       "      <th>0</th>\n",
       "      <td>NaN</td>\n",
       "      <td>Baidu AI Cloud</td>\n",
       "      <td>https://intl.cloud.baidu.com/doc/Agreements/in...</td>\n",
       "      <td>2020-11-02 00:00:00</td>\n",
       "      <td>Cloud storage</td>\n",
       "      <td>China</td>\n",
       "      <td>Other</td>\n",
       "      <td>Public</td>\n",
       "      <td>1.0</td>\n",
       "      <td>1.0</td>\n",
       "      <td>1.0</td>\n",
       "      <td>After you register, you can continue to comple...</td>\n",
       "      <td>NaN</td>\n",
       "      <td>NaN</td>\n",
       "      <td>We use the collected information to provide an...</td>\n",
       "      <td>Please note: In the following circumstances, i...</td>\n",
       "      <td>NaN</td>\n",
       "      <td>Baidu AI Cloud will use your personal informat...</td>\n",
       "      <td>To facilitate us to provide you with services ...</td>\n",
       "      <td>NaN</td>\n",
       "    </tr>\n",
       "    <tr>\n",
       "      <th>1</th>\n",
       "      <td>NaN</td>\n",
       "      <td>Dropbox</td>\n",
       "      <td>https://www.dropbox.com/privacy</td>\n",
       "      <td>2022-01-14 00:00:00</td>\n",
       "      <td>Cloud storage</td>\n",
       "      <td>US</td>\n",
       "      <td>US</td>\n",
       "      <td>Public</td>\n",
       "      <td>1.0</td>\n",
       "      <td>1.0</td>\n",
       "      <td>1.0</td>\n",
       "      <td>We collect, and associate with your account, t...</td>\n",
       "      <td>To make that possible, we store,\\nprocess, and...</td>\n",
       "      <td>We also collect information from and about the...</td>\n",
       "      <td>We collect and use the following information t...</td>\n",
       "      <td>We use this information to provide, improve, a...</td>\n",
       "      <td>For example, we use device information to dete...</td>\n",
       "      <td>We collect and use the personal data described...</td>\n",
       "      <td>NaN</td>\n",
       "      <td>NaN</td>\n",
       "    </tr>\n",
       "    <tr>\n",
       "      <th>2</th>\n",
       "      <td>NaN</td>\n",
       "      <td>iCloud</td>\n",
       "      <td>https://www.apple.com/uk/legal/internet-servic...</td>\n",
       "      <td>NaN</td>\n",
       "      <td>Cloud storage</td>\n",
       "      <td>US</td>\n",
       "      <td>US</td>\n",
       "      <td>Public</td>\n",
       "      <td>NaN</td>\n",
       "      <td>NaN</td>\n",
       "      <td>NaN</td>\n",
       "      <td>NaN</td>\n",
       "      <td>NaN</td>\n",
       "      <td>NaN</td>\n",
       "      <td>NaN</td>\n",
       "      <td>NaN</td>\n",
       "      <td>NaN</td>\n",
       "      <td>NaN</td>\n",
       "      <td>NaN</td>\n",
       "      <td>NaN</td>\n",
       "    </tr>\n",
       "    <tr>\n",
       "      <th>3</th>\n",
       "      <td>NaN</td>\n",
       "      <td>Oktawave</td>\n",
       "      <td>https://oktawave.com/en/company/legal/privacy-...</td>\n",
       "      <td>2019-07-25 00:00:00</td>\n",
       "      <td>Cloud storage</td>\n",
       "      <td>Poland</td>\n",
       "      <td>Poland</td>\n",
       "      <td>Private</td>\n",
       "      <td>1.0</td>\n",
       "      <td>1.0</td>\n",
       "      <td>1.0</td>\n",
       "      <td>The scope of personal data that we process dep...</td>\n",
       "      <td>If you use the telephone customer service, ele...</td>\n",
       "      <td>Once you use our services, apart of the part I...</td>\n",
       "      <td>We\\nprocess the abovementioned information in ...</td>\n",
       "      <td>Additionally, with regard to the processing of...</td>\n",
       "      <td>Nevertheless, we may analyse information about...</td>\n",
       "      <td>Additionally, with regard to the processing of...</td>\n",
       "      <td>If you have been added by our client as a user...</td>\n",
       "      <td>Nevertheless, we may analyse information about...</td>\n",
       "    </tr>\n",
       "    <tr>\n",
       "      <th>4</th>\n",
       "      <td>NaN</td>\n",
       "      <td>OVH</td>\n",
       "      <td>https://www.ovh.ie/personal-data-protection/pr...</td>\n",
       "      <td>NaN</td>\n",
       "      <td>Cloud storage</td>\n",
       "      <td>France</td>\n",
       "      <td>EU</td>\n",
       "      <td>Public</td>\n",
       "      <td>1.0</td>\n",
       "      <td>1.0</td>\n",
       "      <td>1.0</td>\n",
       "      <td>In case of events organization, whether physic...</td>\n",
       "      <td>Data that has been\\nsubjected to the\\nbreach a...</td>\n",
       "      <td>NaN</td>\n",
       "      <td>The above-mentioned data may be processed for ...</td>\n",
       "      <td>These data are collected to organise the\\neven...</td>\n",
       "      <td>Anonymisation for\\nresearch and\\ndevelopment,\\...</td>\n",
       "      <td>Potentially any data\\nsubject to this policy</td>\n",
       "      <td>NaN</td>\n",
       "      <td>NaN</td>\n",
       "    </tr>\n",
       "  </tbody>\n",
       "</table>\n",
       "</div>"
      ],
      "text/plain": [
       "   ID            name                                                url  \\\n",
       "0 NaN  Baidu AI Cloud  https://intl.cloud.baidu.com/doc/Agreements/in...   \n",
       "1 NaN         Dropbox                    https://www.dropbox.com/privacy   \n",
       "2 NaN          iCloud  https://www.apple.com/uk/legal/internet-servic...   \n",
       "3 NaN        Oktawave  https://oktawave.com/en/company/legal/privacy-...   \n",
       "4 NaN             OVH  https://www.ovh.ie/personal-data-protection/pr...   \n",
       "\n",
       "                  date          secto      hq  hq_cat     publ  GenData  \\\n",
       "0  2020-11-02 00:00:00  Cloud storage   China   Other   Public      1.0   \n",
       "1  2022-01-14 00:00:00  Cloud storage      US      US   Public      1.0   \n",
       "2                  NaN  Cloud storage      US      US   Public      NaN   \n",
       "3  2019-07-25 00:00:00  Cloud storage  Poland  Poland  Private      1.0   \n",
       "4                  NaN  Cloud storage  France      EU   Public      1.0   \n",
       "\n",
       "   GenUse  NoDist                                         DataExamp1  \\\n",
       "0     1.0     1.0  After you register, you can continue to comple...   \n",
       "1     1.0     1.0  We collect, and associate with your account, t...   \n",
       "2     NaN     NaN                                                NaN   \n",
       "3     1.0     1.0  The scope of personal data that we process dep...   \n",
       "4     1.0     1.0  In case of events organization, whether physic...   \n",
       "\n",
       "                                          DataExamp2  \\\n",
       "0                                                NaN   \n",
       "1  To make that possible, we store,\\nprocess, and...   \n",
       "2                                                NaN   \n",
       "3  If you use the telephone customer service, ele...   \n",
       "4  Data that has been\\nsubjected to the\\nbreach a...   \n",
       "\n",
       "                                          DataExamp3  \\\n",
       "0                                                NaN   \n",
       "1  We also collect information from and about the...   \n",
       "2                                                NaN   \n",
       "3  Once you use our services, apart of the part I...   \n",
       "4                                                NaN   \n",
       "\n",
       "                                             GenUse1  \\\n",
       "0  We use the collected information to provide an...   \n",
       "1  We collect and use the following information t...   \n",
       "2                                                NaN   \n",
       "3  We\\nprocess the abovementioned information in ...   \n",
       "4  The above-mentioned data may be processed for ...   \n",
       "\n",
       "                                             GenUse2  \\\n",
       "0  Please note: In the following circumstances, i...   \n",
       "1  We use this information to provide, improve, a...   \n",
       "2                                                NaN   \n",
       "3  Additionally, with regard to the processing of...   \n",
       "4  These data are collected to organise the\\neven...   \n",
       "\n",
       "                                             GenUse3  \\\n",
       "0                                                NaN   \n",
       "1  For example, we use device information to dete...   \n",
       "2                                                NaN   \n",
       "3  Nevertheless, we may analyse information about...   \n",
       "4  Anonymisation for\\nresearch and\\ndevelopment,\\...   \n",
       "\n",
       "                                             NoDist1  \\\n",
       "0  Baidu AI Cloud will use your personal informat...   \n",
       "1  We collect and use the personal data described...   \n",
       "2                                                NaN   \n",
       "3  Additionally, with regard to the processing of...   \n",
       "4       Potentially any data\\nsubject to this policy   \n",
       "\n",
       "                                             NoDist2  \\\n",
       "0  To facilitate us to provide you with services ...   \n",
       "1                                                NaN   \n",
       "2                                                NaN   \n",
       "3  If you have been added by our client as a user...   \n",
       "4                                                NaN   \n",
       "\n",
       "                                             NoDist3  \n",
       "0                                                NaN  \n",
       "1                                                NaN  \n",
       "2                                                NaN  \n",
       "3  Nevertheless, we may analyse information about...  \n",
       "4                                                NaN  "
      ]
     },
     "execution_count": 33,
     "metadata": {},
     "output_type": "execute_result"
    }
   ],
   "source": [
    "privacy_policies2.head()"
   ]
  },
  {
   "cell_type": "markdown",
   "metadata": {},
   "source": [
    "### Adding dataset info"
   ]
  },
  {
   "cell_type": "code",
   "execution_count": null,
   "metadata": {},
   "outputs": [],
   "source": [
    "datasets[\"name\"].append(\"privacy-policies\")\n",
    "datasets[\"summary_file_format\"].append(\"xlsx\")\n",
    "datasets[\"raw_files_format\"].append(\"pdf\")\n",
    "datasets[\"aggregated_files_format\"].append(\"NA\")\n",
    "datasets[\"nb_records\"].append(100)\n",
    "datasets[\"split_train_test\"].append(False)\n",
    "datasets[\"labeled\"].append(True)"
   ]
  },
  {
   "cell_type": "markdown",
   "metadata": {},
   "source": [
    "## Casehold"
   ]
  },
  {
   "cell_type": "markdown",
   "metadata": {},
   "source": [
    "### Loading the data"
   ]
  },
  {
   "cell_type": "code",
   "execution_count": 46,
   "metadata": {},
   "outputs": [],
   "source": [
    "casehold = load_dataset(\"casehold/casehold\", \"all\")"
   ]
  },
  {
   "cell_type": "markdown",
   "metadata": {},
   "source": [
    "### EDA"
   ]
  },
  {
   "cell_type": "code",
   "execution_count": 36,
   "metadata": {},
   "outputs": [
    {
     "data": {
      "text/plain": [
       "DatasetDict({\n",
       "    train: Dataset({\n",
       "        features: ['example_id', 'citing_prompt', 'holding_0', 'holding_1', 'holding_2', 'holding_3', 'holding_4', 'label'],\n",
       "        num_rows: 42509\n",
       "    })\n",
       "    validation: Dataset({\n",
       "        features: ['example_id', 'citing_prompt', 'holding_0', 'holding_1', 'holding_2', 'holding_3', 'holding_4', 'label'],\n",
       "        num_rows: 5314\n",
       "    })\n",
       "    test: Dataset({\n",
       "        features: ['example_id', 'citing_prompt', 'holding_0', 'holding_1', 'holding_2', 'holding_3', 'holding_4', 'label'],\n",
       "        num_rows: 5314\n",
       "    })\n",
       "})"
      ]
     },
     "execution_count": 36,
     "metadata": {},
     "output_type": "execute_result"
    }
   ],
   "source": [
    "casehold"
   ]
  },
  {
   "cell_type": "code",
   "execution_count": 37,
   "metadata": {},
   "outputs": [
    {
     "data": {
      "text/plain": [
       "53137"
      ]
     },
     "execution_count": 37,
     "metadata": {},
     "output_type": "execute_result"
    }
   ],
   "source": [
    "42509 + 5314 + 5314"
   ]
  },
  {
   "cell_type": "markdown",
   "metadata": {},
   "source": [
    "### Example record"
   ]
  },
  {
   "cell_type": "code",
   "execution_count": 38,
   "metadata": {},
   "outputs": [
    {
     "data": {
      "text/plain": [
       "{'example_id': 0,\n",
       " 'citing_prompt': \"Drapeau’s cohorts, the cohort would be a “victim” of making the bomb. Further, firebombs are inherently dangerous. There is no peaceful purpose for making a bomb. Felony offenses that involve explosives qualify as “violent crimes” for purposes of enhancing the sentences of career offenders. See 18 U.S.C. § 924(e)(2)(B)(ii) (defining a “violent felony” as: “any crime punishable by imprisonment for a term exceeding one year ... that ... involves use of explosives”). Courts have found possession of a'bomb to be a crime of violence based on the lack of a nonviolent purpose for a bomb and the fact that, by its very nature, there is a substantial risk that the bomb would be used against the person or property of another. See United States v. Newman, 125 F.3d 863 (10th Cir.1997) (unpublished) (<HOLDING>); United States v. Dodge, 846 F.Supp. 181,\",\n",
       " 'holding_0': 'holding that possession of a pipe bomb is a crime of violence for purposes of 18 usc  3142f1',\n",
       " 'holding_1': 'holding that bank robbery by force and violence or intimidation under 18 usc  2113a is a crime of violence',\n",
       " 'holding_2': 'holding that sexual assault of a child qualified as crime of violence under 18 usc  16',\n",
       " 'holding_3': 'holding for the purposes of 18 usc  924e that being a felon in possession of a firearm is not a violent felony as defined in 18 usc  924e2b',\n",
       " 'holding_4': 'holding that a court must only look to the statutory definition not the underlying circumstances of the crime to determine whether a given offense is by its nature a crime of violence for purposes of 18 usc  16',\n",
       " 'label': '0'}"
      ]
     },
     "execution_count": 38,
     "metadata": {},
     "output_type": "execute_result"
    }
   ],
   "source": [
    "casehold['train'][0]"
   ]
  },
  {
   "cell_type": "markdown",
   "metadata": {},
   "source": [
    "### Adding dataset info"
   ]
  },
  {
   "cell_type": "code",
   "execution_count": null,
   "metadata": {},
   "outputs": [],
   "source": [
    "datasets[\"name\"].append(\"casehold\")\n",
    "datasets[\"summary_file_format\"].append(\"NA\")\n",
    "datasets[\"raw_files_format\"].append(\"NA\")\n",
    "datasets[\"aggregated_files_format\"].append(\"huggingface-dataset\")\n",
    "datasets[\"nb_records\"].append(53137)\n",
    "datasets[\"split_train_test\"].append(True)\n",
    "datasets[\"labeled\"].append(True)"
   ]
  },
  {
   "cell_type": "markdown",
   "metadata": {},
   "source": [
    "# Saving summary table"
   ]
  },
  {
   "cell_type": "code",
   "execution_count": 42,
   "metadata": {},
   "outputs": [
    {
     "data": {
      "text/html": [
       "<div>\n",
       "<style scoped>\n",
       "    .dataframe tbody tr th:only-of-type {\n",
       "        vertical-align: middle;\n",
       "    }\n",
       "\n",
       "    .dataframe tbody tr th {\n",
       "        vertical-align: top;\n",
       "    }\n",
       "\n",
       "    .dataframe thead th {\n",
       "        text-align: right;\n",
       "    }\n",
       "</style>\n",
       "<table border=\"1\" class=\"dataframe\">\n",
       "  <thead>\n",
       "    <tr style=\"text-align: right;\">\n",
       "      <th></th>\n",
       "      <th>name</th>\n",
       "      <th>summary_file_format</th>\n",
       "      <th>raw_files_format</th>\n",
       "      <th>aggregated_files_format</th>\n",
       "      <th>nb_records</th>\n",
       "      <th>labeled</th>\n",
       "      <th>split_train_test</th>\n",
       "    </tr>\n",
       "  </thead>\n",
       "  <tbody>\n",
       "    <tr>\n",
       "      <th>0</th>\n",
       "      <td>CUAD</td>\n",
       "      <td>csv</td>\n",
       "      <td>pdf/txt</td>\n",
       "      <td>NA</td>\n",
       "      <td>510</td>\n",
       "      <td>False</td>\n",
       "      <td>False</td>\n",
       "    </tr>\n",
       "    <tr>\n",
       "      <th>1</th>\n",
       "      <td>ContractNLI</td>\n",
       "      <td>NA</td>\n",
       "      <td>pdf/htm/txt</td>\n",
       "      <td>json</td>\n",
       "      <td>607</td>\n",
       "      <td>True</td>\n",
       "      <td>True</td>\n",
       "    </tr>\n",
       "    <tr>\n",
       "      <th>2</th>\n",
       "      <td>Legal-Clauses</td>\n",
       "      <td>NA</td>\n",
       "      <td>NA</td>\n",
       "      <td>csv</td>\n",
       "      <td>21187</td>\n",
       "      <td>True</td>\n",
       "      <td>False</td>\n",
       "    </tr>\n",
       "    <tr>\n",
       "      <th>3</th>\n",
       "      <td>LEDGAR</td>\n",
       "      <td>NA</td>\n",
       "      <td>NA</td>\n",
       "      <td>huggingface-dataset</td>\n",
       "      <td>80000</td>\n",
       "      <td>True</td>\n",
       "      <td>True</td>\n",
       "    </tr>\n",
       "    <tr>\n",
       "      <th>4</th>\n",
       "      <td>ToSDR-corpus</td>\n",
       "      <td>NA</td>\n",
       "      <td>txt/html</td>\n",
       "      <td>NA</td>\n",
       "      <td>12215</td>\n",
       "      <td>False</td>\n",
       "      <td>False</td>\n",
       "    </tr>\n",
       "    <tr>\n",
       "      <th>5</th>\n",
       "      <td>ToS-summaries</td>\n",
       "      <td>NA</td>\n",
       "      <td>NA</td>\n",
       "      <td>json</td>\n",
       "      <td>901</td>\n",
       "      <td>False</td>\n",
       "      <td>False</td>\n",
       "    </tr>\n",
       "    <tr>\n",
       "      <th>6</th>\n",
       "      <td>privacy-policies</td>\n",
       "      <td>xlsx</td>\n",
       "      <td>pdf</td>\n",
       "      <td>NA</td>\n",
       "      <td>100</td>\n",
       "      <td>True</td>\n",
       "      <td>False</td>\n",
       "    </tr>\n",
       "    <tr>\n",
       "      <th>7</th>\n",
       "      <td>casehold</td>\n",
       "      <td>NA</td>\n",
       "      <td>NA</td>\n",
       "      <td>huggingface-dataset</td>\n",
       "      <td>53137</td>\n",
       "      <td>True</td>\n",
       "      <td>True</td>\n",
       "    </tr>\n",
       "  </tbody>\n",
       "</table>\n",
       "</div>"
      ],
      "text/plain": [
       "               name summary_file_format raw_files_format  \\\n",
       "0              CUAD                 csv          pdf/txt   \n",
       "1       ContractNLI                  NA      pdf/htm/txt   \n",
       "2     Legal-Clauses                  NA               NA   \n",
       "3            LEDGAR                  NA               NA   \n",
       "4      ToSDR-corpus                  NA         txt/html   \n",
       "5     ToS-summaries                  NA               NA   \n",
       "6  privacy-policies                xlsx              pdf   \n",
       "7          casehold                  NA               NA   \n",
       "\n",
       "  aggregated_files_format  nb_records  labeled  split_train_test  \n",
       "0                      NA         510    False             False  \n",
       "1                    json         607     True              True  \n",
       "2                     csv       21187     True             False  \n",
       "3     huggingface-dataset       80000     True              True  \n",
       "4                      NA       12215    False             False  \n",
       "5                    json         901    False             False  \n",
       "6                      NA         100     True             False  \n",
       "7     huggingface-dataset       53137     True              True  "
      ]
     },
     "execution_count": 42,
     "metadata": {},
     "output_type": "execute_result"
    }
   ],
   "source": [
    "datasets_df = pd.DataFrame(datasets)\n",
    "datasets_df"
   ]
  },
  {
   "cell_type": "code",
   "execution_count": 44,
   "metadata": {},
   "outputs": [],
   "source": [
    "datasets_df.to_csv(\"candidate-datasets-summary.csv\", index=False)"
   ]
  },
  {
   "cell_type": "markdown",
   "metadata": {},
   "source": []
  }
 ],
 "metadata": {
  "kernelspec": {
   "display_name": "fineprint",
   "language": "python",
   "name": "python3"
  },
  "language_info": {
   "codemirror_mode": {
    "name": "ipython",
    "version": 3
   },
   "file_extension": ".py",
   "mimetype": "text/x-python",
   "name": "python",
   "nbconvert_exporter": "python",
   "pygments_lexer": "ipython3",
   "version": "3.8.20"
  }
 },
 "nbformat": 4,
 "nbformat_minor": 2
}
