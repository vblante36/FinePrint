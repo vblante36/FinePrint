{
 "cells": [
  {
   "cell_type": "code",
   "execution_count": 136,
   "metadata": {},
   "outputs": [],
   "source": [
    "import pandas as pd\n",
    "import numpy as np\n",
    "import matplotlib.pyplot as plt\n",
    "\n",
    "import json\n",
    "\n",
    "from datasets import load_dataset"
   ]
  },
  {
   "cell_type": "markdown",
   "metadata": {},
   "source": [
    "# Datasets"
   ]
  },
  {
   "cell_type": "code",
   "execution_count": 137,
   "metadata": {},
   "outputs": [],
   "source": [
    "datasets = {\"name\": [],\n",
    "            \"description\": [],\n",
    "            \"summary_file_format\": [],\n",
    "            \"raw_files_format\": [],\n",
    "            \"aggregated_files_format\": [],\n",
    "            \"nb_records\": [],\n",
    "            \"split_train_test\": [],\n",
    "            \"labeled\": [],\n",
    "            \"labels\": []}"
   ]
  },
  {
   "cell_type": "code",
   "execution_count": 138,
   "metadata": {},
   "outputs": [],
   "source": [
    "candidate_datasets_path = \"data/candidate-datasets\""
   ]
  },
  {
   "cell_type": "markdown",
   "metadata": {},
   "source": [
    "## CLAUDETTE - Terms of Service"
   ]
  },
  {
   "cell_type": "markdown",
   "metadata": {},
   "source": []
  },
  {
   "cell_type": "code",
   "execution_count": null,
   "metadata": {},
   "outputs": [],
   "source": []
  },
  {
   "cell_type": "markdown",
   "metadata": {},
   "source": [
    "## CUAD"
   ]
  },
  {
   "cell_type": "markdown",
   "metadata": {},
   "source": [
    "Contract Understanding Atticus Dataset (CUAD) v1 is a corpus of more than 13,000 labels in 510 commercial legal contracts that have been manually labeled to identify 41 categories of important clauses that lawyers look for when reviewing contracts in connection with corporate transactions.\n",
    "\n",
    "FORMAT\n",
    "\n",
    "The files in CUAD v1 include 1 CSV file, 1 SQuAD-style JSON file, 28 Excel files, 510 PDF files, and 510 TXT files.\n",
    "\n",
    "-  1 master clauses CSV: a 83-column 511-row file. The first column is the names of the contracts corresponding to the PDF and TXT files in the “full_contracts_pdf\" and \"full_contracts_txt\" folders. The remaining columns contain (1) text context (sometimes referred to as clause), and (2) human-input answers that correspond to each of the 41 categories in these contracts. See a list of the categories in “Category List” below. The first row represents the file name and a list of the categories. The remaining 510 rows each represent a contract in the dataset and include the text context and human-input answers corresponding to the categories. The human-input answers are derived from the text context and are formatted to a unified form.\n",
    "\n",
    "- 1 SQuAD-style JSON: this file is derived from the master clauses CSV to follow the same format as SQuAD 2.0 (https://rajpurkar.github.io/SQuAD-explorer/explore/v2.0/dev/), a question answering dataset whose answers are similarly spans of the input text. The exact format of the JSON format exactly mimics that of SQuAD 2.0 for compatibility with prior work. We also provide Python scripts for processing this data for further ease of use.\n",
    "\n",
    "- 28 Excels: a collection of Excel files containing clauses responsive to each of the categories identified in the “Category List” below. The first column is the names of the contracts corresponding to the PDF and TXT files in the “full_contracts_pdf\" and \"full_contracts_txt\" folders. The remaining columns contain (1) text context (clause) corresponding to one or more Categories that belong in the same group as identified in “Category List” below, and (2) in some cases, human-input answers that correspond to such text context. Each file is named as “Label Report - [label/group name] (Group [number]).xlsx”\n",
    "\n",
    "- 510 full contract PDFs: a collection of the underlying contracts that we used to extract the labels. Each file is named as “[document name].pdf”. These contracts are in a PDF format and are not labeled. The full contract PDFs contain raw data and are provided for context and reference.\n",
    "\n",
    "- 510 full contract TXTs: a collection of TXT files of the underlying contracts. Each file is named as “[document name].txt”. These contracts are in a plaintext format and are not labeled. The full contract TXTs contain raw data and are provided for context and reference.\n"
   ]
  },
  {
   "cell_type": "markdown",
   "metadata": {},
   "source": [
    "### Loading the data"
   ]
  },
  {
   "cell_type": "code",
   "execution_count": 139,
   "metadata": {},
   "outputs": [],
   "source": [
    "cuad_master_clauses = pd.read_csv(f\"{candidate_datasets_path}/CUAD_v1/master_clauses.csv\")"
   ]
  },
  {
   "cell_type": "markdown",
   "metadata": {},
   "source": [
    "### EDA"
   ]
  },
  {
   "cell_type": "code",
   "execution_count": 140,
   "metadata": {},
   "outputs": [
    {
     "data": {
      "text/plain": [
       "(510, 83)"
      ]
     },
     "execution_count": 140,
     "metadata": {},
     "output_type": "execute_result"
    }
   ],
   "source": [
    "cuad_master_clauses.shape"
   ]
  },
  {
   "cell_type": "code",
   "execution_count": 141,
   "metadata": {},
   "outputs": [
    {
     "name": "stdout",
     "output_type": "stream",
     "text": [
      "       3\n",
      "     510\n"
     ]
    }
   ],
   "source": [
    "! ls data/candidate-datasets/CUAD_v1/full_contract_pdf | wc -l\n",
    "! ls data/candidate-datasets/CUAD_v1/full_contract_txt | wc -l\n"
   ]
  },
  {
   "cell_type": "markdown",
   "metadata": {},
   "source": [
    "### Example record"
   ]
  },
  {
   "cell_type": "code",
   "execution_count": 142,
   "metadata": {},
   "outputs": [
    {
     "data": {
      "text/html": [
       "<div>\n",
       "<style scoped>\n",
       "    .dataframe tbody tr th:only-of-type {\n",
       "        vertical-align: middle;\n",
       "    }\n",
       "\n",
       "    .dataframe tbody tr th {\n",
       "        vertical-align: top;\n",
       "    }\n",
       "\n",
       "    .dataframe thead th {\n",
       "        text-align: right;\n",
       "    }\n",
       "</style>\n",
       "<table border=\"1\" class=\"dataframe\">\n",
       "  <thead>\n",
       "    <tr style=\"text-align: right;\">\n",
       "      <th></th>\n",
       "      <th>Filename</th>\n",
       "      <th>Document Name</th>\n",
       "      <th>Document Name-Answer</th>\n",
       "      <th>Parties</th>\n",
       "      <th>Parties-Answer</th>\n",
       "      <th>Agreement Date</th>\n",
       "      <th>Agreement Date-Answer</th>\n",
       "      <th>Effective Date</th>\n",
       "      <th>Effective Date-Answer</th>\n",
       "      <th>Expiration Date</th>\n",
       "      <th>...</th>\n",
       "      <th>Liquidated Damages</th>\n",
       "      <th>Liquidated Damages-Answer</th>\n",
       "      <th>Warranty Duration</th>\n",
       "      <th>Warranty Duration-Answer</th>\n",
       "      <th>Insurance</th>\n",
       "      <th>Insurance-Answer</th>\n",
       "      <th>Covenant Not To Sue</th>\n",
       "      <th>Covenant Not To Sue-Answer</th>\n",
       "      <th>Third Party Beneficiary</th>\n",
       "      <th>Third Party Beneficiary-Answer</th>\n",
       "    </tr>\n",
       "  </thead>\n",
       "  <tbody>\n",
       "    <tr>\n",
       "      <th>0</th>\n",
       "      <td>CybergyHoldingsInc_20140520_10-Q_EX-10.27_8605...</td>\n",
       "      <td>['MARKETING AFFILIATE AGREEMENT']</td>\n",
       "      <td>MARKETING AFFILIATE AGREEMENT</td>\n",
       "      <td>['BIRCH FIRST GLOBAL INVESTMENTS INC.', 'MA', ...</td>\n",
       "      <td>Birch First Global Investments Inc. (\"Company\"...</td>\n",
       "      <td>['8th day of May 2014', 'May 8, 2014']</td>\n",
       "      <td>5/8/14</td>\n",
       "      <td>['This agreement shall begin upon the date of ...</td>\n",
       "      <td>NaN</td>\n",
       "      <td>['This agreement shall begin upon the date of ...</td>\n",
       "      <td>...</td>\n",
       "      <td>[]</td>\n",
       "      <td>No</td>\n",
       "      <td>[\"COMPANY'S SOLE AND EXCLUSIVE LIABILITY FOR T...</td>\n",
       "      <td>Yes</td>\n",
       "      <td>[]</td>\n",
       "      <td>No</td>\n",
       "      <td>[]</td>\n",
       "      <td>No</td>\n",
       "      <td>[]</td>\n",
       "      <td>No</td>\n",
       "    </tr>\n",
       "    <tr>\n",
       "      <th>1</th>\n",
       "      <td>EuromediaHoldingsCorp_20070215_10SB12G_EX-10.B...</td>\n",
       "      <td>['VIDEO-ON-DEMAND CONTENT LICENSE AGREEMENT']</td>\n",
       "      <td>VIDEO-ON-DEMAND CONTENT LICENSE AGREEMENT</td>\n",
       "      <td>['EuroMedia Holdings Corp.', 'Rogers', 'Rogers...</td>\n",
       "      <td>Rogers Cable Communications Inc. (\"Rogers\"); E...</td>\n",
       "      <td>['July 11 , 2006']</td>\n",
       "      <td>7/11/06</td>\n",
       "      <td>['July 11 , 2006']</td>\n",
       "      <td>7/11/06</td>\n",
       "      <td>['The term of this Agreement (the \"Initial Ter...</td>\n",
       "      <td>...</td>\n",
       "      <td>[]</td>\n",
       "      <td>No</td>\n",
       "      <td>[]</td>\n",
       "      <td>No</td>\n",
       "      <td>[]</td>\n",
       "      <td>No</td>\n",
       "      <td>[]</td>\n",
       "      <td>No</td>\n",
       "      <td>[]</td>\n",
       "      <td>No</td>\n",
       "    </tr>\n",
       "    <tr>\n",
       "      <th>2</th>\n",
       "      <td>FulucaiProductionsLtd_20131223_10-Q_EX-10.9_83...</td>\n",
       "      <td>['CONTENT DISTRIBUTION AND LICENSE AGREEMENT']</td>\n",
       "      <td>CONTENT DISTRIBUTION AND LICENSE AGREEMENT</td>\n",
       "      <td>['Producer', 'Fulucai Productions Ltd.', 'Conv...</td>\n",
       "      <td>CONVERGTV, INC. (“ConvergTV”); Fulucai Product...</td>\n",
       "      <td>['November 15, 2012']</td>\n",
       "      <td>11/15/12</td>\n",
       "      <td>['November 15, 2012']</td>\n",
       "      <td>11/15/12</td>\n",
       "      <td>[]</td>\n",
       "      <td>...</td>\n",
       "      <td>[]</td>\n",
       "      <td>No</td>\n",
       "      <td>[]</td>\n",
       "      <td>No</td>\n",
       "      <td>[]</td>\n",
       "      <td>No</td>\n",
       "      <td>[]</td>\n",
       "      <td>No</td>\n",
       "      <td>[]</td>\n",
       "      <td>No</td>\n",
       "    </tr>\n",
       "    <tr>\n",
       "      <th>3</th>\n",
       "      <td>GopageCorp_20140221_10-K_EX-10.1_8432966_EX-10...</td>\n",
       "      <td>['WEBSITE CONTENT LICENSE AGREEMENT']</td>\n",
       "      <td>WEBSITE CONTENT LICENSE AGREEMENT</td>\n",
       "      <td>['PSiTech Corporation', 'Licensor', 'Licensee'...</td>\n",
       "      <td>PSiTech Corporation (\"Licensor\"); Empirical Ve...</td>\n",
       "      <td>['Feb 10, 2014']</td>\n",
       "      <td>2/10/14</td>\n",
       "      <td>['Feb 10, 2014']</td>\n",
       "      <td>2/10/14</td>\n",
       "      <td>['The initial term of this Agreement commences...</td>\n",
       "      <td>...</td>\n",
       "      <td>[]</td>\n",
       "      <td>No</td>\n",
       "      <td>[]</td>\n",
       "      <td>No</td>\n",
       "      <td>[]</td>\n",
       "      <td>No</td>\n",
       "      <td>[]</td>\n",
       "      <td>No</td>\n",
       "      <td>[]</td>\n",
       "      <td>No</td>\n",
       "    </tr>\n",
       "    <tr>\n",
       "      <th>4</th>\n",
       "      <td>IdeanomicsInc_20160330_10-K_EX-10.26_9512211_E...</td>\n",
       "      <td>['CONTENT LICENSE AGREEMENT']</td>\n",
       "      <td>CONTENT LICENSE AGREEMENT</td>\n",
       "      <td>['YOU ON DEMAND HOLDINGS, INC.', 'Licensor', '...</td>\n",
       "      <td>Beijing Sun Seven Stars Culture Development Li...</td>\n",
       "      <td>['December 21, 2015']</td>\n",
       "      <td>12/21/15</td>\n",
       "      <td>['December 21, 2015']</td>\n",
       "      <td>12/21/15</td>\n",
       "      <td>['The Term of this Agreement (the \"Term\") shal...</td>\n",
       "      <td>...</td>\n",
       "      <td>[]</td>\n",
       "      <td>No</td>\n",
       "      <td>[]</td>\n",
       "      <td>No</td>\n",
       "      <td>[]</td>\n",
       "      <td>No</td>\n",
       "      <td>[]</td>\n",
       "      <td>No</td>\n",
       "      <td>[]</td>\n",
       "      <td>No</td>\n",
       "    </tr>\n",
       "  </tbody>\n",
       "</table>\n",
       "<p>5 rows × 83 columns</p>\n",
       "</div>"
      ],
      "text/plain": [
       "                                            Filename  \\\n",
       "0  CybergyHoldingsInc_20140520_10-Q_EX-10.27_8605...   \n",
       "1  EuromediaHoldingsCorp_20070215_10SB12G_EX-10.B...   \n",
       "2  FulucaiProductionsLtd_20131223_10-Q_EX-10.9_83...   \n",
       "3  GopageCorp_20140221_10-K_EX-10.1_8432966_EX-10...   \n",
       "4  IdeanomicsInc_20160330_10-K_EX-10.26_9512211_E...   \n",
       "\n",
       "                                    Document Name  \\\n",
       "0               ['MARKETING AFFILIATE AGREEMENT']   \n",
       "1   ['VIDEO-ON-DEMAND CONTENT LICENSE AGREEMENT']   \n",
       "2  ['CONTENT DISTRIBUTION AND LICENSE AGREEMENT']   \n",
       "3           ['WEBSITE CONTENT LICENSE AGREEMENT']   \n",
       "4                   ['CONTENT LICENSE AGREEMENT']   \n",
       "\n",
       "                         Document Name-Answer  \\\n",
       "0               MARKETING AFFILIATE AGREEMENT   \n",
       "1   VIDEO-ON-DEMAND CONTENT LICENSE AGREEMENT   \n",
       "2  CONTENT DISTRIBUTION AND LICENSE AGREEMENT   \n",
       "3           WEBSITE CONTENT LICENSE AGREEMENT   \n",
       "4                   CONTENT LICENSE AGREEMENT   \n",
       "\n",
       "                                             Parties  \\\n",
       "0  ['BIRCH FIRST GLOBAL INVESTMENTS INC.', 'MA', ...   \n",
       "1  ['EuroMedia Holdings Corp.', 'Rogers', 'Rogers...   \n",
       "2  ['Producer', 'Fulucai Productions Ltd.', 'Conv...   \n",
       "3  ['PSiTech Corporation', 'Licensor', 'Licensee'...   \n",
       "4  ['YOU ON DEMAND HOLDINGS, INC.', 'Licensor', '...   \n",
       "\n",
       "                                      Parties-Answer  \\\n",
       "0  Birch First Global Investments Inc. (\"Company\"...   \n",
       "1  Rogers Cable Communications Inc. (\"Rogers\"); E...   \n",
       "2  CONVERGTV, INC. (“ConvergTV”); Fulucai Product...   \n",
       "3  PSiTech Corporation (\"Licensor\"); Empirical Ve...   \n",
       "4  Beijing Sun Seven Stars Culture Development Li...   \n",
       "\n",
       "                           Agreement Date Agreement Date-Answer  \\\n",
       "0  ['8th day of May 2014', 'May 8, 2014']                5/8/14   \n",
       "1                      ['July 11 , 2006']               7/11/06   \n",
       "2                   ['November 15, 2012']              11/15/12   \n",
       "3                        ['Feb 10, 2014']               2/10/14   \n",
       "4                   ['December 21, 2015']              12/21/15   \n",
       "\n",
       "                                      Effective Date Effective Date-Answer  \\\n",
       "0  ['This agreement shall begin upon the date of ...                   NaN   \n",
       "1                                 ['July 11 , 2006']               7/11/06   \n",
       "2                              ['November 15, 2012']              11/15/12   \n",
       "3                                   ['Feb 10, 2014']               2/10/14   \n",
       "4                              ['December 21, 2015']              12/21/15   \n",
       "\n",
       "                                     Expiration Date  ... Liquidated Damages  \\\n",
       "0  ['This agreement shall begin upon the date of ...  ...                 []   \n",
       "1  ['The term of this Agreement (the \"Initial Ter...  ...                 []   \n",
       "2                                                 []  ...                 []   \n",
       "3  ['The initial term of this Agreement commences...  ...                 []   \n",
       "4  ['The Term of this Agreement (the \"Term\") shal...  ...                 []   \n",
       "\n",
       "  Liquidated Damages-Answer  \\\n",
       "0                        No   \n",
       "1                        No   \n",
       "2                        No   \n",
       "3                        No   \n",
       "4                        No   \n",
       "\n",
       "                                   Warranty Duration Warranty Duration-Answer  \\\n",
       "0  [\"COMPANY'S SOLE AND EXCLUSIVE LIABILITY FOR T...                      Yes   \n",
       "1                                                 []                       No   \n",
       "2                                                 []                       No   \n",
       "3                                                 []                       No   \n",
       "4                                                 []                       No   \n",
       "\n",
       "  Insurance Insurance-Answer Covenant Not To Sue Covenant Not To Sue-Answer  \\\n",
       "0        []               No                  []                         No   \n",
       "1        []               No                  []                         No   \n",
       "2        []               No                  []                         No   \n",
       "3        []               No                  []                         No   \n",
       "4        []               No                  []                         No   \n",
       "\n",
       "  Third Party Beneficiary Third Party Beneficiary-Answer  \n",
       "0                      []                             No  \n",
       "1                      []                             No  \n",
       "2                      []                             No  \n",
       "3                      []                             No  \n",
       "4                      []                             No  \n",
       "\n",
       "[5 rows x 83 columns]"
      ]
     },
     "execution_count": 142,
     "metadata": {},
     "output_type": "execute_result"
    }
   ],
   "source": [
    "cuad_master_clauses.head()"
   ]
  },
  {
   "cell_type": "code",
   "execution_count": 143,
   "metadata": {},
   "outputs": [
    {
     "name": "stdout",
     "output_type": "stream",
     "text": [
      "<class 'pandas.core.frame.DataFrame'>\n",
      "RangeIndex: 510 entries, 0 to 509\n",
      "Data columns (total 83 columns):\n",
      " #   Column                                      Non-Null Count  Dtype \n",
      "---  ------                                      --------------  ----- \n",
      " 0   Filename                                    510 non-null    object\n",
      " 1   Document Name                               510 non-null    object\n",
      " 2   Document Name-Answer                        510 non-null    object\n",
      " 3   Parties                                     510 non-null    object\n",
      " 4   Parties-Answer                              509 non-null    object\n",
      " 5   Agreement Date                              510 non-null    object\n",
      " 6   Agreement Date-Answer                       465 non-null    object\n",
      " 7   Effective Date                              510 non-null    object\n",
      " 8   Effective Date-Answer                       359 non-null    object\n",
      " 9   Expiration Date                             510 non-null    object\n",
      " 10  Expiration Date-Answer                      329 non-null    object\n",
      " 11  Renewal Term                                510 non-null    object\n",
      " 12  Renewal Term-Answer                         163 non-null    object\n",
      " 13  Notice Period To Terminate Renewal          510 non-null    object\n",
      " 14  Notice Period To Terminate Renewal- Answer  101 non-null    object\n",
      " 15  Governing Law                               510 non-null    object\n",
      " 16  Governing Law-Answer                        434 non-null    object\n",
      " 17  Most Favored Nation                         510 non-null    object\n",
      " 18  Most Favored Nation-Answer                  510 non-null    object\n",
      " 19  Competitive Restriction Exception           510 non-null    object\n",
      " 20  Competitive Restriction Exception-Answer    510 non-null    object\n",
      " 21  Non-Compete                                 510 non-null    object\n",
      " 22  Non-Compete-Answer                          510 non-null    object\n",
      " 23  Exclusivity                                 510 non-null    object\n",
      " 24  Exclusivity-Answer                          510 non-null    object\n",
      " 25  No-Solicit Of Customers                     510 non-null    object\n",
      " 26  No-Solicit Of Customers-Answer              510 non-null    object\n",
      " 27  No-Solicit Of Employees                     510 non-null    object\n",
      " 28  No-Solicit Of Employees-Answer              510 non-null    object\n",
      " 29  Non-Disparagement                           510 non-null    object\n",
      " 30  Non-Disparagement-Answer                    510 non-null    object\n",
      " 31  Termination For Convenience                 510 non-null    object\n",
      " 32  Termination For Convenience-Answer          510 non-null    object\n",
      " 33  Rofr/Rofo/Rofn                              510 non-null    object\n",
      " 34  Rofr/Rofo/Rofn-Answer                       510 non-null    object\n",
      " 35  Change Of Control                           510 non-null    object\n",
      " 36  Change Of Control-Answer                    510 non-null    object\n",
      " 37  Anti-Assignment                             510 non-null    object\n",
      " 38  Anti-Assignment-Answer                      510 non-null    object\n",
      " 39  Revenue/Profit Sharing                      510 non-null    object\n",
      " 40  Revenue/Profit Sharing-Answer               510 non-null    object\n",
      " 41  Price Restrictions                          510 non-null    object\n",
      " 42  Price Restrictions-Answer                   510 non-null    object\n",
      " 43  Minimum Commitment                          510 non-null    object\n",
      " 44  Minimum Commitment-Answer                   510 non-null    object\n",
      " 45  Volume Restriction                          510 non-null    object\n",
      " 46  Volume Restriction-Answer                   510 non-null    object\n",
      " 47  Ip Ownership Assignment                     510 non-null    object\n",
      " 48  Ip Ownership Assignment-Answer              510 non-null    object\n",
      " 49  Joint Ip Ownership                          510 non-null    object\n",
      " 50  Joint Ip Ownership-Answer                   510 non-null    object\n",
      " 51  License Grant                               510 non-null    object\n",
      " 52  License Grant-Answer                        510 non-null    object\n",
      " 53  Non-Transferable License                    510 non-null    object\n",
      " 54  Non-Transferable License-Answer             510 non-null    object\n",
      " 55  Affiliate License-Licensor                  510 non-null    object\n",
      " 56  Affiliate License-Licensor-Answer           510 non-null    object\n",
      " 57  Affiliate License-Licensee                  510 non-null    object\n",
      " 58  Affiliate License-Licensee-Answer           510 non-null    object\n",
      " 59  Unlimited/All-You-Can-Eat-License           510 non-null    object\n",
      " 60  Unlimited/All-You-Can-Eat-License-Answer    510 non-null    object\n",
      " 61  Irrevocable Or Perpetual License            510 non-null    object\n",
      " 62  Irrevocable Or Perpetual License-Answer     510 non-null    object\n",
      " 63  Source Code Escrow                          510 non-null    object\n",
      " 64  Source Code Escrow-Answer                   510 non-null    object\n",
      " 65  Post-Termination Services                   510 non-null    object\n",
      " 66  Post-Termination Services-Answer            510 non-null    object\n",
      " 67  Audit Rights                                510 non-null    object\n",
      " 68  Audit Rights-Answer                         510 non-null    object\n",
      " 69  Uncapped Liability                          510 non-null    object\n",
      " 70  Uncapped Liability-Answer                   510 non-null    object\n",
      " 71  Cap On Liability                            510 non-null    object\n",
      " 72  Cap On Liability-Answer                     510 non-null    object\n",
      " 73  Liquidated Damages                          510 non-null    object\n",
      " 74  Liquidated Damages-Answer                   510 non-null    object\n",
      " 75  Warranty Duration                           510 non-null    object\n",
      " 76  Warranty Duration-Answer                    510 non-null    object\n",
      " 77  Insurance                                   510 non-null    object\n",
      " 78  Insurance-Answer                            510 non-null    object\n",
      " 79  Covenant Not To Sue                         510 non-null    object\n",
      " 80  Covenant Not To Sue-Answer                  510 non-null    object\n",
      " 81  Third Party Beneficiary                     510 non-null    object\n",
      " 82  Third Party Beneficiary-Answer              510 non-null    object\n",
      "dtypes: object(83)\n",
      "memory usage: 330.8+ KB\n"
     ]
    }
   ],
   "source": [
    "cuad_master_clauses.info()"
   ]
  },
  {
   "cell_type": "markdown",
   "metadata": {},
   "source": [
    "### Label analysis"
   ]
  },
  {
   "cell_type": "code",
   "execution_count": 144,
   "metadata": {},
   "outputs": [
    {
     "name": "stdout",
     "output_type": "stream",
     "text": [
      "41\n"
     ]
    }
   ],
   "source": [
    "cuad_labels = list(cuad_master_clauses.columns)\n",
    "cuad_labels = [label for label in cuad_labels if not label.endswith(\"Answer\")]\n",
    "cuad_labels = cuad_labels[1:]\n",
    "print(len(cuad_labels))"
   ]
  },
  {
   "cell_type": "code",
   "execution_count": 145,
   "metadata": {},
   "outputs": [
    {
     "name": "stdout",
     "output_type": "stream",
     "text": [
      "['Document Name', 'Parties', 'Agreement Date', 'Effective Date', 'Expiration Date', 'Renewal Term', 'Notice Period To Terminate Renewal', 'Governing Law', 'Most Favored Nation', 'Competitive Restriction Exception', 'Non-Compete', 'Exclusivity', 'No-Solicit Of Customers', 'No-Solicit Of Employees', 'Non-Disparagement', 'Termination For Convenience', 'Rofr/Rofo/Rofn', 'Change Of Control', 'Anti-Assignment', 'Revenue/Profit Sharing', 'Price Restrictions', 'Minimum Commitment', 'Volume Restriction', 'Ip Ownership Assignment', 'Joint Ip Ownership', 'License Grant', 'Non-Transferable License', 'Affiliate License-Licensor', 'Affiliate License-Licensee', 'Unlimited/All-You-Can-Eat-License', 'Irrevocable Or Perpetual License', 'Source Code Escrow', 'Post-Termination Services', 'Audit Rights', 'Uncapped Liability', 'Cap On Liability', 'Liquidated Damages', 'Warranty Duration', 'Insurance', 'Covenant Not To Sue', 'Third Party Beneficiary']\n"
     ]
    }
   ],
   "source": [
    "print(cuad_labels)"
   ]
  },
  {
   "cell_type": "markdown",
   "metadata": {},
   "source": [
    "### Adding dataset info"
   ]
  },
  {
   "cell_type": "code",
   "execution_count": 146,
   "metadata": {},
   "outputs": [],
   "source": [
    "datasets[\"name\"].append(\"CUAD\")\n",
    "datasets[\"description\"].append(\"Extracts 41 categories of important clauses from a contract\")\n",
    "datasets[\"summary_file_format\"].append(\"csv\")\n",
    "datasets[\"raw_files_format\"].append(\"pdf/txt\")\n",
    "datasets[\"aggregated_files_format\"].append(\"NA\")\n",
    "datasets[\"nb_records\"].append(510)\n",
    "datasets[\"split_train_test\"].append(False)\n",
    "datasets[\"labeled\"].append(True)\n",
    "datasets[\"labels\"].append(\"41 different clauses\")"
   ]
  },
  {
   "cell_type": "markdown",
   "metadata": {},
   "source": [
    "## ContractNLI"
   ]
  },
  {
   "cell_type": "markdown",
   "metadata": {},
   "source": [
    "We have 17 hypotheses annotated on 607 non-disclosure agreements (NDAs).\n",
    "The hypotheses are fixed throughout all the contracts including the test dataset.\n",
    "\n",
    "Our dataset is provided as JSON files.\n",
    "\n",
    "---\n",
    "\n",
    "ContractNLI is a dataset for document-level natural language inference (NLI) on contracts whose goal is to automate/support a time-consuming procedure of contract review.\n",
    "In this task, a system is given a set of hypotheses (such as \"Some obligations of Agreement may survive termination.\") and a contract, and it is asked to classify whether each hypothesis is _entailed by_, _contradicting to_ or _not mentioned by_ (neutral to) the contract as well as identifying _evidence_ for the decision as spans in the contract.\n",
    "\n",
    "---\n",
    "\n",
    "The core information in our dataset is:\n",
    "* `text`: The full document text\n",
    "* `spans`: List of spans as pairs of the start and end character indices.\n",
    "* `annotation_sets`: It is provided as a list to accommodate multiple annotations per document. Since we only have a single annotation for each document, you may safely access the appropriate annotation by `document['annotation_sets'][0]['annotations']`.\n",
    "* `annotations`: Each key represents a hypothesis key. `choice` is either `Entailment`, `Contradiction` or `NotMentioned`. `spans` is given as indices of `spans` above. `spans` is empty when `choice` is `NotMentioned`.\n",
    "* `labels`: Each key represents a hypothesis key. `hypothesis` is the hypothesis text that should be used in NLI.\n",
    "\n",
    "The JSON file comes with supplemental information. Users may simply ignore the information if you are only interested in developing machine learning systems.\n",
    "* `id`: A unique ID throughout train, development and test datasets.\n",
    "* `file_name`: The filename of the original document in the dataset zip file.\n",
    "* `document_type`: One of `search-pdf` (a PDF from a search engine), `sec-text` (a text file from SEC filing) or `sec-html` (an HTML file from SEC filing).\n",
    "* `url`: The URL that we obtained the document from."
   ]
  },
  {
   "cell_type": "markdown",
   "metadata": {},
   "source": [
    "### Loading the data"
   ]
  },
  {
   "cell_type": "code",
   "execution_count": 147,
   "metadata": {},
   "outputs": [],
   "source": [
    "with open(f\"{candidate_datasets_path}/contract-nli/train.json\", 'r') as file:\n",
    "    contract_nli_train = json.load(file)\n",
    "\n",
    "with open(f\"{candidate_datasets_path}/contract-nli/test.json\", 'r') as file:\n",
    "    contract_nli_test = json.load(file)\n",
    "\n",
    "with open(f\"{candidate_datasets_path}/contract-nli/dev.json\", 'r') as file:\n",
    "    contract_nli_dev = json.load(file)"
   ]
  },
  {
   "cell_type": "markdown",
   "metadata": {},
   "source": [
    "### EDA"
   ]
  },
  {
   "cell_type": "code",
   "execution_count": 148,
   "metadata": {},
   "outputs": [
    {
     "data": {
      "text/plain": [
       "dict_keys(['documents', 'labels'])"
      ]
     },
     "execution_count": 148,
     "metadata": {},
     "output_type": "execute_result"
    }
   ],
   "source": [
    "contract_nli_train.keys()"
   ]
  },
  {
   "cell_type": "code",
   "execution_count": 149,
   "metadata": {},
   "outputs": [
    {
     "data": {
      "text/plain": [
       "607"
      ]
     },
     "execution_count": 149,
     "metadata": {},
     "output_type": "execute_result"
    }
   ],
   "source": [
    "len(contract_nli_train['documents']) + len(contract_nli_test['documents']) + len(contract_nli_dev['documents'])"
   ]
  },
  {
   "cell_type": "code",
   "execution_count": 150,
   "metadata": {},
   "outputs": [
    {
     "name": "stdout",
     "output_type": "stream",
     "text": [
      "     607\n"
     ]
    }
   ],
   "source": [
    "! ls data/candidate-datasets/contract-nli/raw | wc -l"
   ]
  },
  {
   "cell_type": "markdown",
   "metadata": {},
   "source": [
    "### Example record"
   ]
  },
  {
   "cell_type": "code",
   "execution_count": 151,
   "metadata": {},
   "outputs": [
    {
     "data": {
      "text/plain": [
       "{'id': 34,\n",
       " 'file_name': 'Annex E_Non-Disclosure and Confidentiality Agreement.pdf',\n",
       " 'text': \"NON-DISCLOSURE AND CONFIDENTIALITY AGREEMENT\\nThis NON-DISCLOSURE AND CONFIDENTIALITY AGREEMENT (“Agreement”) is made by and between:\\n(i) the Office of the United Nations High Commissioner for Refugees, having its headquarters located at 94 rue de Montbrillant, 1202 Geneva, Switzerland (hereinafter “UNHCR” or the “Discloser”); and\\n(ii) ________________________ , a company established in accordance with the laws of ________________________ and having its principal offices located at ________________________________________________ (hereinafter the “Bidder” or the “Recipient”).\\nThe Discloser and Recipient are also referred to collectively as the “Parties” and individually as a “Party”.\\nRECITALS\\nWHEREAS in connection with RFP/2014/620, Request for Proposal for the provision Off-the-shelf Soft-skill, IT Online and HR specific E-learning Courses (the “RFP”), it is advantageous to share certain data and information with the Bidder participating in the RFP;\\nWHEREAS UNHCR agrees to provide such data and information to the Bidder for the sole purpose of preparing its Proposal under said RFP;\\nWHEREAS the Bidder is willing to ensure that UNHCR’s data and information will be held in strict confidence and only used for the permitted purpose;\\nNOW, THEREFORE, the Parties agree as follows:\\n1. “Confidential Information”, whenever used in this Agreement, shall mean any data, document, specification and other information or material, that is delivered or disclosed by UNHCR to the Recipient in any form whatsoever, whether orally, visually in writing or otherwise (including computerized form), and that, at the time of disclosure to the Recipient, is designated as confidential.\\n2. The Confidential Information that is delivered or otherwise disclosed by the Discloser to the Recipient shall be held in trust and confidence by the Recipient and shall be handled as follows:\\n2.1 The Recipient shall use the same care and discretion to avoid disclosure, publication or dissemination of the Confidential Information as it uses with its own similar information that it does not wish to disclose, publish or disseminate;\\n2.2 The Recipient shall use the Confidential Information solely for the purpose for which it was disclosed;\\n2.3 Provided that the Recipient has a written agreement with the following persons or entities requiring them to treat the Confidential Information in accordance with this Agreement, the Recipient may disclose the Confidential Information to:\\n2.3.1 Any other party with the Discloser’s prior written consent; and\\n2.3.2 the Recipient’s employees, officials, representatives and agents who have a strict need to know the contents of the Confidential Information, and employees, officials, representatives and agents of any legal entity that it controls, controls it, or with which it is under common control, who have a similar need to know the contents of the Confidential Information, provided that, for these purposes a controlled legal entity means:\\n2.3.2.1 a corporate entity in which the Party owns or otherwise controls, whether directly or indirectly, over fifty percent (50%) of voting shares thereof; or,\\n2.3.2.2 any entity over which the Party exercises effective managerial control; or,\\n2.3.2.3 for UNHCR, a principal or subsidiary organ of the United Nations established in accordance with the Charter of the United Nations.\\n2.4 The Recipient may disclose the Confidential Information to the extent required by law, provided that, subject to and without any waiver of the privileges and immunities of UNHCR, the Recipient will give UNHCR sufficient prior notice of a request for the disclosure of the Confidential Information in order to allow UNHCR to have a reasonable opportunity to take protective measures or such other action as may be appropriate before any such disclosure is made.\\n2.5 The Recipient shall not be precluded from disclosing the Confidential Information that is (i) obtained by the Recipient without restriction from a third party who is not in breach of any obligation as to confidentiality to the owner of such Confidential Information or any other person, or (ii) disclosed by the Discloser to a third party without any obligation of confidentiality, or (iii) previously known by the Recipient, or (iv) at any time is developed by the Recipient completely independently of any disclosures hereunder.\\n2.6 The Recipient will not copy or reproduce the Confidential Information except as reasonably required for the purposes contemplated in this Agreement, and will ensure that any confidentiality or other proprietary rights notices on the Confidential Information are reproduced on all copies.\\n3. The Recipient acknowledges that UNHCR hereto makes no any representation or warranty, express or implied, as to the accuracy or completeness of the Confidential Information.\\n4. Nothing in this Agreement is to be construed as granting the Recipient, by implication or otherwise, any right whatsoever with respect to the Confidential Information or part thereof.\\n5. All Confidential Information in any form and any medium, including all copies thereof, disclosed to the Recipient shall be returned to UNHCR or destroyed: (a) if a business relationship is not entered into with UNHCR on or before the date which is three (3) months after the date both Parties have signed the Agreement; or (b) promptly upon request by the UNHCR at any time.\\n6. The Recipient agrees to indemnify UNHCR in respect of any expenses, losses, damages, costs, claims or liability UNHCR may suffer or incur as a result of an act or omission by the Recipient or its employees, consultants and agents in connection with the Confidential Information and the Recipient’s obligations under this Agreement.\\n7. Nothing in this Agreement shall be construed as obligating any Party to continue any discussions or to enter into a business relationship.\\n8. This Agreement shall enter into force on the date it is signed by both Parties. Either Party may terminate the working relationship contemplated by this Agreement by providing written notice to the other, provided, however, that the obligations and restrictions hereunder regarding the Confidential Information shall remain effective following any such termination or any other termination or expiration of this Agreement.\\n9. Any dispute, controversy or claim between the Parties arising out of, this Agreement or the breach, termination or invalidity thereof, unless settled amicably within twenty (20) days after receipt by one Party of the other Party's request for such amicable settlement, shall be referred by either Party to arbitration in accordance with the UNCITRAL Arbitration Rules then obtaining, including provisions on applicable law. The arbitral tribunal shall have no authority to award punitive damages. In addition, unless otherwise expressly provided in this Agreement, the arbitral tribunal shall have no authority to award interest. The Parties shall be bound by any arbitration award rendered as a result of such arbitration as the final adjudication of any such controversy, claim or dispute.\\n10. Nothing in or relating to this Agreement shall be deemed a waiver, express or implied, of any of the privileges and immunities of the United Nations, including UNHCR as its subsidiary organ.\\n11. The Recipient shall not advertise or otherwise make public the fact that it has a confidential relationship with UNHCR, nor shall the Recipient, in any manner whatsoever use the name, emblem, or official seal of the United Nations or UNHCR, or any abbreviation of the name of the United Nations or UNHCR in connection with its business or otherwise.\\n12. If any provision of this Agreement shall be held to be invalid, illegal or unenforceable, the validity, legality and enforceability of the remaining provisions shall not in any way be affected or impaired.\\n13. This Agreement constitutes the entire agreement concerning the subject matter hereof above and supersedes all prior representations, agreements and understandings, whether written or oral, by and between the Parties on the subject hereof.\\n14. The Parties acknowledge and agree that their representatives who have signed this Agreement had full authority to do so and to fully bind the Party being represented by doing so.\\nIN WITNESS WHEREOF, the Parties, acting through their authorized representatives, have caused this Agreement to be signed on the dates set forth below:\\nFor and on behalf of UNHCR: For and on behalf of the Bidder:\\n________________________ ________________________\\n Name: Name:\\nTitle: Title:\\n Date: Date:\\n\",\n",
       " 'spans': [[0, 44],\n",
       "  [45, 132],\n",
       "  [133, 331],\n",
       "  [332, 417],\n",
       "  [417, 486],\n",
       "  [486, 535],\n",
       "  [535, 581],\n",
       "  [582, 691],\n",
       "  [692, 700],\n",
       "  [701, 963],\n",
       "  [964, 1098],\n",
       "  [1099, 1107],\n",
       "  [1107, 1247],\n",
       "  [1248, 1293],\n",
       "  [1294, 1683],\n",
       "  [1684, 1878],\n",
       "  [1879, 1883],\n",
       "  [1883, 2120],\n",
       "  [2121, 2125],\n",
       "  [2125, 2228],\n",
       "  [2229, 2471],\n",
       "  [2472, 2478],\n",
       "  [2478, 2541],\n",
       "  [2542, 2980],\n",
       "  [2981, 3141],\n",
       "  [3142, 3225],\n",
       "  [3226, 3364],\n",
       "  [3365, 3369],\n",
       "  [3369, 3829],\n",
       "  [3830, 3834],\n",
       "  [3834, 3924],\n",
       "  [3924, 4124],\n",
       "  [4124, 4219],\n",
       "  [4219, 4263],\n",
       "  [4263, 4364],\n",
       "  [4365, 4369],\n",
       "  [4369, 4656],\n",
       "  [4657, 4833],\n",
       "  [4834, 5020],\n",
       "  [5021, 5179],\n",
       "  [5179, 5347],\n",
       "  [5347, 5398],\n",
       "  [5399, 5733],\n",
       "  [5734, 5875],\n",
       "  [5876, 5959],\n",
       "  [5959, 6301],\n",
       "  [6302, 6729],\n",
       "  [6729, 6802],\n",
       "  [6802, 6935],\n",
       "  [6935, 7096],\n",
       "  [7097, 7291],\n",
       "  [7292, 7645],\n",
       "  [7646, 7855],\n",
       "  [7856, 8098],\n",
       "  [8099, 8281],\n",
       "  [8282, 8433],\n",
       "  [8434, 8494],\n",
       "  [8495, 8520],\n",
       "  [8520, 8544],\n",
       "  [8545, 8546],\n",
       "  [8546, 8557],\n",
       "  [8558, 8571],\n",
       "  [8572, 8573],\n",
       "  [8573, 8579],\n",
       "  [8579, 8584]],\n",
       " 'annotation_sets': [{'annotations': {'nda-11': {'choice': 'NotMentioned',\n",
       "     'spans': []},\n",
       "    'nda-16': {'choice': 'Entailment', 'spans': [39, 40]},\n",
       "    'nda-15': {'choice': 'Entailment', 'spans': [38]},\n",
       "    'nda-10': {'choice': 'Entailment', 'spans': [51]},\n",
       "    'nda-2': {'choice': 'NotMentioned', 'spans': []},\n",
       "    'nda-1': {'choice': 'Entailment', 'spans': [14]},\n",
       "    'nda-19': {'choice': 'Entailment', 'spans': [45]},\n",
       "    'nda-12': {'choice': 'Entailment', 'spans': [30, 34]},\n",
       "    'nda-20': {'choice': 'NotMentioned', 'spans': []},\n",
       "    'nda-3': {'choice': 'Entailment', 'spans': [14]},\n",
       "    'nda-18': {'choice': 'NotMentioned', 'spans': []},\n",
       "    'nda-7': {'choice': 'Entailment', 'spans': [20, 23]},\n",
       "    'nda-17': {'choice': 'Entailment', 'spans': [36]},\n",
       "    'nda-8': {'choice': 'Entailment', 'spans': [28]},\n",
       "    'nda-13': {'choice': 'Entailment', 'spans': [30, 31]},\n",
       "    'nda-5': {'choice': 'Entailment', 'spans': [20, 23, 25]},\n",
       "    'nda-4': {'choice': 'Entailment', 'spans': [19]}}}],\n",
       " 'document_type': 'search-pdf',\n",
       " 'url': 'https://www.ungm.org/UNUser/Documents/DownloadPublicDocument?docId=287983'}"
      ]
     },
     "execution_count": 151,
     "metadata": {},
     "output_type": "execute_result"
    }
   ],
   "source": [
    "contract_nli_train['documents'][0]"
   ]
  },
  {
   "cell_type": "markdown",
   "metadata": {},
   "source": [
    "### Label analysis"
   ]
  },
  {
   "cell_type": "code",
   "execution_count": 152,
   "metadata": {},
   "outputs": [
    {
     "data": {
      "text/plain": [
       "{'nda-11': {'short_description': 'No reverse engineering',\n",
       "  'hypothesis': \"Receiving Party shall not reverse engineer any objects which embody Disclosing Party's Confidential Information.\"},\n",
       " 'nda-16': {'short_description': 'Return of confidential information',\n",
       "  'hypothesis': 'Receiving Party shall destroy or return some Confidential Information upon the termination of Agreement.'},\n",
       " 'nda-15': {'short_description': 'No licensing',\n",
       "  'hypothesis': 'Agreement shall not grant Receiving Party any right to Confidential Information.'},\n",
       " 'nda-10': {'short_description': 'Confidentiality of Agreement',\n",
       "  'hypothesis': 'Receiving Party shall not disclose the fact that Agreement was agreed or negotiated.'},\n",
       " 'nda-2': {'short_description': 'None-inclusion of non-technical information',\n",
       "  'hypothesis': 'Confidential Information shall only include technical information.'},\n",
       " 'nda-1': {'short_description': 'Explicit identification',\n",
       "  'hypothesis': 'All Confidential Information shall be expressly identified by the Disclosing Party.'},\n",
       " 'nda-19': {'short_description': 'Survival of obligations',\n",
       "  'hypothesis': 'Some obligations of Agreement may survive termination of Agreement.'},\n",
       " 'nda-12': {'short_description': 'Permissible development of similar information',\n",
       "  'hypothesis': 'Receiving Party may independently develop information similar to Confidential Information.'},\n",
       " 'nda-20': {'short_description': 'Permissible post-agreement possession',\n",
       "  'hypothesis': 'Receiving Party may retain some Confidential Information even after the return or destruction of Confidential Information.'},\n",
       " 'nda-3': {'short_description': 'Inclusion of verbally conveyed information',\n",
       "  'hypothesis': 'Confidential Information may include verbally conveyed information.'},\n",
       " 'nda-18': {'short_description': 'No solicitation',\n",
       "  'hypothesis': \"Receiving Party shall not solicit some of Disclosing Party's representatives.\"},\n",
       " 'nda-7': {'short_description': 'Sharing with third-parties',\n",
       "  'hypothesis': 'Receiving Party may share some Confidential Information with some third-parties (including consultants, agents and professional advisors).'},\n",
       " 'nda-17': {'short_description': 'Permissible copy',\n",
       "  'hypothesis': 'Receiving Party may create a copy of some Confidential Information in some circumstances.'},\n",
       " 'nda-8': {'short_description': 'Notice on compelled disclosure',\n",
       "  'hypothesis': 'Receiving Party shall notify Disclosing Party in case Receiving Party is required by law, regulation or judicial process to disclose any Confidential Information.'},\n",
       " 'nda-13': {'short_description': 'Permissible acquirement of similar information',\n",
       "  'hypothesis': 'Receiving Party may acquire information similar to Confidential Information from a third party.'},\n",
       " 'nda-5': {'short_description': 'Sharing with employees',\n",
       "  'hypothesis': \"Receiving Party may share some Confidential Information with some of Receiving Party's employees.\"},\n",
       " 'nda-4': {'short_description': 'Limited use',\n",
       "  'hypothesis': 'Receiving Party shall not use any Confidential Information for any purpose other than the purposes stated in Agreement.'}}"
      ]
     },
     "execution_count": 152,
     "metadata": {},
     "output_type": "execute_result"
    }
   ],
   "source": [
    "contract_nli_train['labels']"
   ]
  },
  {
   "cell_type": "markdown",
   "metadata": {},
   "source": [
    "### Adding dataset info"
   ]
  },
  {
   "cell_type": "code",
   "execution_count": 153,
   "metadata": {},
   "outputs": [],
   "source": [
    "datasets[\"name\"].append(\"ContractNLI\")\n",
    "datasets[\"description\"].append(\"Contracts annotated on 17 different hypotheses each\")\n",
    "datasets[\"summary_file_format\"].append(\"NA\")\n",
    "datasets[\"raw_files_format\"].append(\"pdf/htm/txt\")\n",
    "datasets[\"aggregated_files_format\"].append(\"json\")\n",
    "datasets[\"nb_records\"].append(607)\n",
    "datasets[\"split_train_test\"].append(True)\n",
    "datasets[\"labeled\"].append(True)\n",
    "datasets[\"labels\"].append(\"17 hypotheses - each can be 'entailed by', 'contradicting to' or 'not mentioned by' (support, contradicts, neutral)\")"
   ]
  },
  {
   "cell_type": "markdown",
   "metadata": {},
   "source": [
    "## Legal Clauses"
   ]
  },
  {
   "cell_type": "markdown",
   "metadata": {},
   "source": [
    "The data source is from was scraped from contracts website where I have collected over 21k legal clauses from 16 type of clauses that are related to ‘finance’. I used python using different type of libraries for scraping since the website keep blocking automated querying from the website, so I used selenium library to extract clause text and clause type."
   ]
  },
  {
   "cell_type": "markdown",
   "metadata": {},
   "source": [
    "### Loading the data"
   ]
  },
  {
   "cell_type": "code",
   "execution_count": 154,
   "metadata": {},
   "outputs": [],
   "source": [
    "legal_clauses = pd.read_csv(f\"{candidate_datasets_path}/legal-clauses/legal_docs.csv\", index_col=0)"
   ]
  },
  {
   "cell_type": "markdown",
   "metadata": {},
   "source": [
    "### EDA"
   ]
  },
  {
   "cell_type": "code",
   "execution_count": 155,
   "metadata": {},
   "outputs": [
    {
     "data": {
      "text/plain": [
       "(21187, 4)"
      ]
     },
     "execution_count": 155,
     "metadata": {},
     "output_type": "execute_result"
    }
   ],
   "source": [
    "legal_clauses.shape"
   ]
  },
  {
   "cell_type": "markdown",
   "metadata": {},
   "source": [
    "### Example record"
   ]
  },
  {
   "cell_type": "code",
   "execution_count": 156,
   "metadata": {},
   "outputs": [
    {
     "data": {
      "text/html": [
       "<div>\n",
       "<style scoped>\n",
       "    .dataframe tbody tr th:only-of-type {\n",
       "        vertical-align: middle;\n",
       "    }\n",
       "\n",
       "    .dataframe tbody tr th {\n",
       "        vertical-align: top;\n",
       "    }\n",
       "\n",
       "    .dataframe thead th {\n",
       "        text-align: right;\n",
       "    }\n",
       "</style>\n",
       "<table border=\"1\" class=\"dataframe\">\n",
       "  <thead>\n",
       "    <tr style=\"text-align: right;\">\n",
       "      <th></th>\n",
       "      <th>clause_text</th>\n",
       "      <th>clause_type</th>\n",
       "      <th>totalwords</th>\n",
       "      <th>totalletters</th>\n",
       "    </tr>\n",
       "  </thead>\n",
       "  <tbody>\n",
       "    <tr>\n",
       "      <th>0</th>\n",
       "      <td>Make any Investments, except:</td>\n",
       "      <td>investments</td>\n",
       "      <td>4.0</td>\n",
       "      <td>30.0</td>\n",
       "    </tr>\n",
       "    <tr>\n",
       "      <th>1</th>\n",
       "      <td>No more than 45% of the “value” (as defined i...</td>\n",
       "      <td>investments</td>\n",
       "      <td>76.0</td>\n",
       "      <td>460.0</td>\n",
       "    </tr>\n",
       "    <tr>\n",
       "      <th>2</th>\n",
       "      <td>Make or hold any Investments, except:</td>\n",
       "      <td>investments</td>\n",
       "      <td>6.0</td>\n",
       "      <td>38.0</td>\n",
       "    </tr>\n",
       "    <tr>\n",
       "      <th>3</th>\n",
       "      <td>The SubAdviser is hereby authorized and direc...</td>\n",
       "      <td>investments</td>\n",
       "      <td>228.0</td>\n",
       "      <td>1474.0</td>\n",
       "    </tr>\n",
       "    <tr>\n",
       "      <th>4</th>\n",
       "      <td>Make any advance, loan, extension of credit (...</td>\n",
       "      <td>investments</td>\n",
       "      <td>52.0</td>\n",
       "      <td>329.0</td>\n",
       "    </tr>\n",
       "  </tbody>\n",
       "</table>\n",
       "</div>"
      ],
      "text/plain": [
       "                                         clause_text  clause_type  totalwords  \\\n",
       "0                      Make any Investments, except:  investments         4.0   \n",
       "1   No more than 45% of the “value” (as defined i...  investments        76.0   \n",
       "2              Make or hold any Investments, except:  investments         6.0   \n",
       "3   The SubAdviser is hereby authorized and direc...  investments       228.0   \n",
       "4   Make any advance, loan, extension of credit (...  investments        52.0   \n",
       "\n",
       "   totalletters  \n",
       "0          30.0  \n",
       "1         460.0  \n",
       "2          38.0  \n",
       "3        1474.0  \n",
       "4         329.0  "
      ]
     },
     "execution_count": 156,
     "metadata": {},
     "output_type": "execute_result"
    }
   ],
   "source": [
    "legal_clauses.head()"
   ]
  },
  {
   "cell_type": "markdown",
   "metadata": {},
   "source": [
    "### Label analysis"
   ]
  },
  {
   "cell_type": "code",
   "execution_count": 157,
   "metadata": {},
   "outputs": [
    {
     "name": "stdout",
     "output_type": "stream",
     "text": [
      "42\n"
     ]
    },
    {
     "data": {
      "text/plain": [
       "['investments',\n",
       " 'capitalization',\n",
       " 'private_equity',\n",
       " 'interest',\n",
       " 'vesting',\n",
       " 'employee_benefits',\n",
       " 'esop',\n",
       " 'ownership_of_shares',\n",
       " 'foreign_investors',\n",
       " 'loans',\n",
       " 'stock_option',\n",
       " 'investment_company',\n",
       " 'seed',\n",
       " 'board',\n",
       " 'financing',\n",
       " 'grant_of_option',\n",
       " 'payment_terms',\n",
       " 'taxes',\n",
       " 'payment',\n",
       " 'compensation',\n",
       " 'base-salary',\n",
       " 'investment-company-act',\n",
       " 'dividends',\n",
       " 'shares',\n",
       " 'grant',\n",
       " 'conversion_of_shares',\n",
       " 'WHEREAS',\n",
       " 'NOW',\n",
       " 'Notices',\n",
       " 'Governing',\n",
       " 'Counterparts',\n",
       " 'Severability',\n",
       " 'Miscellaneous',\n",
       " 'Definitions',\n",
       " 'Entire',\n",
       " 'Termination',\n",
       " 'Indemnification',\n",
       " 'Headings',\n",
       " 'Representations',\n",
       " 'Assignment',\n",
       " 'Insurance',\n",
       " 'Confidentiality']"
      ]
     },
     "execution_count": 157,
     "metadata": {},
     "output_type": "execute_result"
    }
   ],
   "source": [
    "clause_types = list(legal_clauses[\"clause_type\"].unique())\n",
    "print(len(clause_types))\n",
    "clause_types"
   ]
  },
  {
   "cell_type": "markdown",
   "metadata": {},
   "source": [
    "### Adding dataset info"
   ]
  },
  {
   "cell_type": "code",
   "execution_count": 158,
   "metadata": {},
   "outputs": [],
   "source": [
    "datasets[\"name\"].append(\"Legal-Clauses\")\n",
    "datasets[\"description\"].append(\"Annotated clauses from contracts\")\n",
    "datasets[\"summary_file_format\"].append(\"NA\")\n",
    "datasets[\"raw_files_format\"].append(\"NA\")\n",
    "datasets[\"aggregated_files_format\"].append(\"csv\")\n",
    "datasets[\"nb_records\"].append(21187)\n",
    "datasets[\"split_train_test\"].append(False)\n",
    "datasets[\"labeled\"].append(True)\n",
    "datasets[\"labels\"].append(\"42 clause types\")"
   ]
  },
  {
   "cell_type": "markdown",
   "metadata": {},
   "source": [
    "## LEDGAR"
   ]
  },
  {
   "cell_type": "markdown",
   "metadata": {},
   "source": [
    "The LEDGAR dataset, which is a annotated dataset consisting of annotated clauses from contracts. The corpus was crawled and scraped from the public domain (SEC filings).\n",
    "\n",
    "\n",
    "[HuggingFace link](https://huggingface.co/datasets/MAdAiLab/lex_glue_ledgar)"
   ]
  },
  {
   "cell_type": "markdown",
   "metadata": {},
   "source": [
    "### Loading the data"
   ]
  },
  {
   "cell_type": "code",
   "execution_count": 159,
   "metadata": {},
   "outputs": [],
   "source": [
    "ledgar = load_dataset(\"MAdAiLab/lex_glue_ledgar\")"
   ]
  },
  {
   "cell_type": "markdown",
   "metadata": {},
   "source": [
    "### EDA"
   ]
  },
  {
   "cell_type": "code",
   "execution_count": 160,
   "metadata": {},
   "outputs": [
    {
     "data": {
      "text/plain": [
       "DatasetDict({\n",
       "    train: Dataset({\n",
       "        features: ['text', 'label'],\n",
       "        num_rows: 60000\n",
       "    })\n",
       "    test: Dataset({\n",
       "        features: ['text', 'label'],\n",
       "        num_rows: 10000\n",
       "    })\n",
       "    validation: Dataset({\n",
       "        features: ['text', 'label'],\n",
       "        num_rows: 10000\n",
       "    })\n",
       "})"
      ]
     },
     "execution_count": 160,
     "metadata": {},
     "output_type": "execute_result"
    }
   ],
   "source": [
    "ledgar"
   ]
  },
  {
   "cell_type": "code",
   "execution_count": 161,
   "metadata": {},
   "outputs": [
    {
     "data": {
      "text/plain": [
       "80000"
      ]
     },
     "execution_count": 161,
     "metadata": {},
     "output_type": "execute_result"
    }
   ],
   "source": [
    "60000 + 10000 + 10000"
   ]
  },
  {
   "cell_type": "markdown",
   "metadata": {},
   "source": [
    "### Example record"
   ]
  },
  {
   "cell_type": "code",
   "execution_count": 162,
   "metadata": {},
   "outputs": [
    {
     "data": {
      "text/plain": [
       "{'text': 'Except as otherwise set forth in this Debenture, the Company, for itself and its legal representatives, successors and assigns, expressly waives presentment, protest, demand, notice of dishonor, notice of nonpayment, notice of maturity, notice of protest, presentment for the purpose of accelerating maturity, and diligence in collection.',\n",
       " 'label': 97}"
      ]
     },
     "execution_count": 162,
     "metadata": {},
     "output_type": "execute_result"
    }
   ],
   "source": [
    "ledgar['train'][0]"
   ]
  },
  {
   "cell_type": "markdown",
   "metadata": {},
   "source": [
    "### Label analysis"
   ]
  },
  {
   "cell_type": "markdown",
   "metadata": {},
   "source": [
    "There are 100 different classes"
   ]
  },
  {
   "cell_type": "code",
   "execution_count": null,
   "metadata": {},
   "outputs": [],
   "source": []
  },
  {
   "cell_type": "markdown",
   "metadata": {},
   "source": [
    "### Adding dataset info"
   ]
  },
  {
   "cell_type": "code",
   "execution_count": 163,
   "metadata": {},
   "outputs": [],
   "source": [
    "datasets[\"name\"].append(\"LEDGAR\")\n",
    "datasets[\"description\"].append(\"Annotated clauses from contracts\")\n",
    "datasets[\"summary_file_format\"].append(\"NA\")\n",
    "datasets[\"raw_files_format\"].append(\"NA\")\n",
    "datasets[\"aggregated_files_format\"].append(\"huggingface-dataset\")\n",
    "datasets[\"nb_records\"].append(80000)\n",
    "datasets[\"split_train_test\"].append(True)\n",
    "datasets[\"labeled\"].append(True)\n",
    "datasets[\"labels\"].append(\"100 clause types\")"
   ]
  },
  {
   "cell_type": "markdown",
   "metadata": {},
   "source": [
    "## ToSDR Corpus"
   ]
  },
  {
   "cell_type": "markdown",
   "metadata": {},
   "source": [
    "This repository contains a corpus of 12,215 terms of service (TOS) documents, which were scraped from the [TOSDR website](https://edit.tosdr.org/documents) using the Beautiful Soup and Requests libraries in Python. The dataset includes both HTML and text versions of the documents.\n",
    "\n",
    "The data collection process involved retrieving the document text from TOSDR, saving it in an HTML file, removing non-English files detected through the LangDetect library, removing files less than 2B in size and less than 6 words, and converting the remaining files to a text format."
   ]
  },
  {
   "cell_type": "markdown",
   "metadata": {},
   "source": [
    "### Loading the data"
   ]
  },
  {
   "cell_type": "code",
   "execution_count": 164,
   "metadata": {},
   "outputs": [],
   "source": [
    "# NA"
   ]
  },
  {
   "cell_type": "markdown",
   "metadata": {},
   "source": [
    "### EDA"
   ]
  },
  {
   "cell_type": "code",
   "execution_count": 165,
   "metadata": {},
   "outputs": [
    {
     "name": "stdout",
     "output_type": "stream",
     "text": [
      "   12215\n",
      "    9496\n"
     ]
    }
   ],
   "source": [
    "! ls data/candidate-datasets/tosdr-terms-of-service-corpus-main/corpus/html | wc -l\n",
    "! ls data/candidate-datasets/tosdr-terms-of-service-corpus-main/corpus/text | wc -l"
   ]
  },
  {
   "cell_type": "markdown",
   "metadata": {},
   "source": [
    "### Example record"
   ]
  },
  {
   "cell_type": "code",
   "execution_count": 166,
   "metadata": {},
   "outputs": [],
   "source": [
    "# NA"
   ]
  },
  {
   "cell_type": "markdown",
   "metadata": {},
   "source": [
    "### Adding dataset info"
   ]
  },
  {
   "cell_type": "code",
   "execution_count": 167,
   "metadata": {},
   "outputs": [],
   "source": [
    "datasets[\"name\"].append(\"ToSDR-corpus\")\n",
    "datasets[\"description\"].append(\"Corpus of legal texts\")\n",
    "datasets[\"summary_file_format\"].append(\"NA\")\n",
    "datasets[\"raw_files_format\"].append(\"txt/html\")\n",
    "datasets[\"aggregated_files_format\"].append(\"NA\")\n",
    "datasets[\"nb_records\"].append(12215)\n",
    "datasets[\"split_train_test\"].append(False)\n",
    "datasets[\"labeled\"].append(False)\n",
    "datasets[\"labels\"].append(\"NA\")"
   ]
  },
  {
   "cell_type": "markdown",
   "metadata": {},
   "source": [
    "## ToSDR Service API"
   ]
  },
  {
   "cell_type": "markdown",
   "metadata": {},
   "source": [
    "needed ?"
   ]
  },
  {
   "cell_type": "code",
   "execution_count": null,
   "metadata": {},
   "outputs": [],
   "source": []
  },
  {
   "cell_type": "markdown",
   "metadata": {},
   "source": [
    "## ToS Summaries"
   ]
  },
  {
   "cell_type": "markdown",
   "metadata": {},
   "source": [
    "In this dataset, I have compiled Terms of Service Agreements, each accompanied by human-annotated summaries.\n",
    "\n",
    "The data were scraped from [tosdr.org](https://tosdr.org/en).\n",
    "\n",
    "The primary aim of this dataset is to assist in the simplification/summarization of complex and lengthy Terms of Service Agreements, thereby making them more accessible and understandable for users."
   ]
  },
  {
   "cell_type": "markdown",
   "metadata": {},
   "source": [
    "### Loading the data"
   ]
  },
  {
   "cell_type": "code",
   "execution_count": 168,
   "metadata": {},
   "outputs": [],
   "source": [
    "tos_summaries = []\n",
    "\n",
    "with open(f\"{candidate_datasets_path}/tos-summaries/dataset.json\", 'r', encoding='utf-8') as f:\n",
    "    for line in f:\n",
    "        record = json.loads(line)\n",
    "        tos_summaries.append(record)"
   ]
  },
  {
   "cell_type": "markdown",
   "metadata": {},
   "source": [
    "### EDA"
   ]
  },
  {
   "cell_type": "code",
   "execution_count": 169,
   "metadata": {},
   "outputs": [
    {
     "data": {
      "text/plain": [
       "901"
      ]
     },
     "execution_count": 169,
     "metadata": {},
     "output_type": "execute_result"
    }
   ],
   "source": [
    "len(tos_summaries)"
   ]
  },
  {
   "cell_type": "markdown",
   "metadata": {},
   "source": [
    "### Example record"
   ]
  },
  {
   "cell_type": "code",
   "execution_count": 170,
   "metadata": {},
   "outputs": [
    {
     "data": {
      "text/plain": [
       "{'plain_text': 'We can change these Terms at any time. We keep a historical record of all changes to our Terms on GitHub. If a change is material, we’ll let you know before they take effect. By using Medium on or after that effective date, you agree to the new Terms. If you don’t agree to them, you should delete your account before they take effect, otherwise your use of the site and content will be subject to the new Terms. You own the rights to the content you create and post on Medium. We will never sell your content to third parties without your explicit permission. You may need to register for an account to access some or all of our Services. We can remove any content you post for any reason. You can delete any of your posts, or your account, anytime. Processing the deletion may take a little time, but we’ll do it as quickly as possible. We may keep backup copies of your deleted post or account on our servers for up to 14 days after you delete it. Medium reserves the right to delete or disable content alleged to be infringing the intellectual property rights of others, and to terminate accounts of repeat infringers. Crawling the Services is allowed if done in accordance with the provisions of our robots.txt file, but scraping the Services is prohibited. No children Medium is only for people 13 years old and over. By using Medium, you affirm that you are over 13. If we learn someone under 13 is using Medium, we’ll terminate their account. you grant Medium a nonexclusive, royalty-free, worldwide, fully paid, and sublicensable license to use Disclaimer of warranty. Medium provides the Services to you as is. You use them at your own risk and discretion. That means they don’t come with any warranty. None express, none implied. No implied warranty of merchantability, fitness for a particular purpose, availability, security, title or non-infringement. Limitation of Liability. Medium won’t be liable to you for any damages that arise from your using the Services. This includes if the Services are hacked or unavailable. This includes all types of damages (indirect, incidental, consequential, special or exemplary). And it includes all kinds of legal claims, such as breach of contract, breach of warranty, tort, or any other loss. Choice of law and jurisdiction. These Terms are governed by California law, without reference to its conflict of laws provisions. You agree that any suit arising from the Services must take place in a court located in San Francisco, California. We reserve the right to suspend or terminate your access to the Services with or without notice. ',\n",
       " 'summary': \"Users should revisit the terms periodically, although in case of material changes, the service will notify. You maintain ownership of your data (the content you create and post on Medium). This service does not sell your personal data. You must create an account to use this service. The service can delete specific content without prior notice and without a reason. You can delete your content from this service. User accounts can be terminated after having been in breach of the terms of service repeatedly. Users cannot scrape the website of the service. This service is only available only for people 13 years old and over. The service has non-exclusive use of your content. The service is provided 'as is' and to be used at the users' sole risk. This service assumes no liability for any losses or damages resulting from any matter relating to the service. The court of law governing the terms is in San Francisco, California. Your account can be deleted without prior notice and without a reason. \"}"
      ]
     },
     "execution_count": 170,
     "metadata": {},
     "output_type": "execute_result"
    }
   ],
   "source": [
    "tos_summaries[0]"
   ]
  },
  {
   "cell_type": "markdown",
   "metadata": {},
   "source": [
    "### Adding dataset info"
   ]
  },
  {
   "cell_type": "code",
   "execution_count": 171,
   "metadata": {},
   "outputs": [],
   "source": [
    "datasets[\"name\"].append(\"ToS-summaries\")\n",
    "datasets[\"description\"].append(\"Terms of Service Agreements with their summaries\")\n",
    "datasets[\"summary_file_format\"].append(\"NA\")\n",
    "datasets[\"raw_files_format\"].append(\"NA\")\n",
    "datasets[\"aggregated_files_format\"].append(\"json\")\n",
    "datasets[\"nb_records\"].append(901)\n",
    "datasets[\"split_train_test\"].append(False)\n",
    "datasets[\"labeled\"].append(True)\n",
    "datasets[\"labels\"].append(\"Text summary\")"
   ]
  },
  {
   "cell_type": "markdown",
   "metadata": {},
   "source": [
    "## Privacy Policies Dataset"
   ]
  },
  {
   "cell_type": "markdown",
   "metadata": {},
   "source": [
    "Research question: Does the wording of a privacy policy enable the user to know:\n",
    "(i)\twhat data precisely will be collected;\n",
    "(ii)\tin what ways, precisely, the data will be used;\n",
    "(iii)\twhat data will be used in what way OR is the wording such that the company enjoys significant flexibility in (i) what they collect; (ii) in what ways they can use the data, and (iii) what data they can use in what way or for what purpose?\n",
    "\n",
    "TAGGING CATEGORIES\n",
    "\n",
    "| Codename      | Description                                                                                                                                                                                                                             | Values   |\n",
    "|---------------|-----------------------------------------------------------------------------------------------------------------------------------------------------------------------------------------------------------------------------------------|----------|\n",
    "| GenData       | Is there a clause describing what categories of data are collected that deploys such a general term, potentially followed by an open catalogue of examples, that it is not clear to the consumer what kinds of information will be gathered? | Yes: 1<br>No: 0 |\n",
    "| GenUse        | Is there a clause describing the ways in which data will be used that deploys such a general term, potentially followed by an open catalogue of example, that is not clear to the consumer how exactly her data will be used?            | Yes: 1<br>No: 0 |\n",
    "| NoDistinction | Does the privacy policy feature clauses describing how data will be used that do not explain what data exactly will be used in what way or for what purpose                                                                             | Yes: 1<br>No: 0 |\n",
    "\n",
    "\n",
    "For each category, a separate cells for identified clause examples were included in the table. They include up to 3 clauses that were identified with “1” during the course of privacy policy analysis.\n"
   ]
  },
  {
   "cell_type": "markdown",
   "metadata": {},
   "source": [
    "### Loading the data"
   ]
  },
  {
   "cell_type": "code",
   "execution_count": 172,
   "metadata": {},
   "outputs": [],
   "source": [
    "privacy_policies1 = pd.read_excel(f\"{candidate_datasets_path}/annotated-privacy-policies-of-100-online-platforms/PP_table Tagger1.xlsx\")\n",
    "privacy_policies2 = pd.read_excel(f\"{candidate_datasets_path}/annotated-privacy-policies-of-100-online-platforms/PP_table Tagger2.xlsx\")"
   ]
  },
  {
   "cell_type": "markdown",
   "metadata": {},
   "source": [
    "### EDA"
   ]
  },
  {
   "cell_type": "code",
   "execution_count": 173,
   "metadata": {},
   "outputs": [
    {
     "name": "stdout",
     "output_type": "stream",
     "text": [
      "(100, 20)\n",
      "(100, 20)\n"
     ]
    }
   ],
   "source": [
    "print(privacy_policies1.shape)\n",
    "print(privacy_policies2.shape)"
   ]
  },
  {
   "cell_type": "code",
   "execution_count": 174,
   "metadata": {},
   "outputs": [
    {
     "name": "stdout",
     "output_type": "stream",
     "text": [
      "      97\n",
      "      98\n"
     ]
    }
   ],
   "source": [
    "! ls \"data/candidate-datasets/annotated-privacy-policies-of-100-online-platforms/Tagger 1/\" | wc -l\n",
    "! ls \"data/candidate-datasets/annotated-privacy-policies-of-100-online-platforms/Tagger 2/\" | wc -l"
   ]
  },
  {
   "cell_type": "markdown",
   "metadata": {},
   "source": [
    "### Example record"
   ]
  },
  {
   "cell_type": "code",
   "execution_count": 175,
   "metadata": {},
   "outputs": [
    {
     "data": {
      "text/html": [
       "<div>\n",
       "<style scoped>\n",
       "    .dataframe tbody tr th:only-of-type {\n",
       "        vertical-align: middle;\n",
       "    }\n",
       "\n",
       "    .dataframe tbody tr th {\n",
       "        vertical-align: top;\n",
       "    }\n",
       "\n",
       "    .dataframe thead th {\n",
       "        text-align: right;\n",
       "    }\n",
       "</style>\n",
       "<table border=\"1\" class=\"dataframe\">\n",
       "  <thead>\n",
       "    <tr style=\"text-align: right;\">\n",
       "      <th></th>\n",
       "      <th>ID</th>\n",
       "      <th>name</th>\n",
       "      <th>url</th>\n",
       "      <th>date</th>\n",
       "      <th>secto</th>\n",
       "      <th>hq</th>\n",
       "      <th>hq_cat</th>\n",
       "      <th>publ</th>\n",
       "      <th>GenData</th>\n",
       "      <th>GenUse</th>\n",
       "      <th>NoDist</th>\n",
       "      <th>DataExamp1</th>\n",
       "      <th>DataExamp2</th>\n",
       "      <th>DataExamp3</th>\n",
       "      <th>GenUse1</th>\n",
       "      <th>GenUse2</th>\n",
       "      <th>GenUse3</th>\n",
       "      <th>NoDist1</th>\n",
       "      <th>NoDist2</th>\n",
       "      <th>NoDist3</th>\n",
       "    </tr>\n",
       "  </thead>\n",
       "  <tbody>\n",
       "    <tr>\n",
       "      <th>0</th>\n",
       "      <td>NaN</td>\n",
       "      <td>Baidu AI Cloud</td>\n",
       "      <td>https://intl.cloud.baidu.com/doc/Agreements/in...</td>\n",
       "      <td>2020-11-02 00:00:00</td>\n",
       "      <td>Cloud storage</td>\n",
       "      <td>China</td>\n",
       "      <td>Other</td>\n",
       "      <td>Public</td>\n",
       "      <td>1.0</td>\n",
       "      <td>1.0</td>\n",
       "      <td>1.0</td>\n",
       "      <td>Operation and support information. Baidu AI Cl...</td>\n",
       "      <td>To improve services, Baidu AI Cloud records yo...</td>\n",
       "      <td>8. Please note: In the following circumstances...</td>\n",
       "      <td>We use the collected information to provide an...</td>\n",
       "      <td>We will use the data for research for public i...</td>\n",
       "      <td>We share personal data with suppliers or partn...</td>\n",
       "      <td>In order to improve the security of your use o...</td>\n",
       "      <td>We use the collected information to provide an...</td>\n",
       "      <td>We will use the data for research for public i...</td>\n",
       "    </tr>\n",
       "    <tr>\n",
       "      <th>1</th>\n",
       "      <td>NaN</td>\n",
       "      <td>Dropbox</td>\n",
       "      <td>https://www.dropbox.com/privacy</td>\n",
       "      <td>2022-01-14 00:00:00</td>\n",
       "      <td>Cloud storage</td>\n",
       "      <td>US</td>\n",
       "      <td>US</td>\n",
       "      <td>Public</td>\n",
       "      <td>1.0</td>\n",
       "      <td>1.0</td>\n",
       "      <td>1.0</td>\n",
       "      <td>We collect information related to how you use ...</td>\n",
       "      <td>Your devices (depending on their settings) may...</td>\n",
       "      <td>NaN</td>\n",
       "      <td>We collect and use the following information t...</td>\n",
       "      <td>We collect and use the personal data described...</td>\n",
       "      <td>We also collect anduse personal data for our l...</td>\n",
       "      <td>We collect and use the following information t...</td>\n",
       "      <td>We collect and use the personal data described...</td>\n",
       "      <td>We also collect anduse personal data for our l...</td>\n",
       "    </tr>\n",
       "    <tr>\n",
       "      <th>2</th>\n",
       "      <td>NaN</td>\n",
       "      <td>iCloud</td>\n",
       "      <td>https://www.apple.com/uk/legal/internet-servic...</td>\n",
       "      <td>NaN</td>\n",
       "      <td>Cloud storage</td>\n",
       "      <td>US</td>\n",
       "      <td>US</td>\n",
       "      <td>Public</td>\n",
       "      <td>NaN</td>\n",
       "      <td>NaN</td>\n",
       "      <td>NaN</td>\n",
       "      <td>NaN</td>\n",
       "      <td>NaN</td>\n",
       "      <td>NaN</td>\n",
       "      <td>NaN</td>\n",
       "      <td>NaN</td>\n",
       "      <td>NaN</td>\n",
       "      <td>NaN</td>\n",
       "      <td>NaN</td>\n",
       "      <td>NaN</td>\n",
       "    </tr>\n",
       "    <tr>\n",
       "      <th>3</th>\n",
       "      <td>NaN</td>\n",
       "      <td>Oktawave</td>\n",
       "      <td>https://oktawave.com/en/company/legal/privacy-...</td>\n",
       "      <td>2019-07-25 00:00:00</td>\n",
       "      <td>Cloud storage</td>\n",
       "      <td>Poland</td>\n",
       "      <td>Poland</td>\n",
       "      <td>Private</td>\n",
       "      <td>1.0</td>\n",
       "      <td>1.0</td>\n",
       "      <td>1.0</td>\n",
       "      <td>In case of events organization, whether physic...</td>\n",
       "      <td>Data that has been\\nsubjected to the\\nbreach a...</td>\n",
       "      <td>NaN</td>\n",
       "      <td>The above-mentioned data may be processed for ...</td>\n",
       "      <td>These data are collected to organise the\\neven...</td>\n",
       "      <td>Anonymisation for\\nresearch and\\ndevelopment,\\...</td>\n",
       "      <td>Potentially any data\\nsubject to this policy</td>\n",
       "      <td>NaN</td>\n",
       "      <td>NaN</td>\n",
       "    </tr>\n",
       "    <tr>\n",
       "      <th>4</th>\n",
       "      <td>NaN</td>\n",
       "      <td>OVH</td>\n",
       "      <td>https://www.ovh.ie/personal-data-protection/pr...</td>\n",
       "      <td>NaN</td>\n",
       "      <td>Cloud storage</td>\n",
       "      <td>France</td>\n",
       "      <td>EU</td>\n",
       "      <td>Public</td>\n",
       "      <td>1.0</td>\n",
       "      <td>1.0</td>\n",
       "      <td>1.0</td>\n",
       "      <td>Other information you provide directly to us. ...</td>\n",
       "      <td>Other information that we collect automaticall...</td>\n",
       "      <td>We may receive information from cookies (small...</td>\n",
       "      <td>Certain features, like contact syncing, may re...</td>\n",
       "      <td>Functional Cookies: These help us provide enha...</td>\n",
       "      <td>To protect our services. We use information to...</td>\n",
       "      <td>To provide you with the services. We use your ...</td>\n",
       "      <td>To do so, we\\nuse your information to monitor ...</td>\n",
       "      <td>To personalize the product. We use your inform...</td>\n",
       "    </tr>\n",
       "  </tbody>\n",
       "</table>\n",
       "</div>"
      ],
      "text/plain": [
       "   ID            name                                                url  \\\n",
       "0 NaN  Baidu AI Cloud  https://intl.cloud.baidu.com/doc/Agreements/in...   \n",
       "1 NaN         Dropbox                    https://www.dropbox.com/privacy   \n",
       "2 NaN          iCloud  https://www.apple.com/uk/legal/internet-servic...   \n",
       "3 NaN        Oktawave  https://oktawave.com/en/company/legal/privacy-...   \n",
       "4 NaN             OVH  https://www.ovh.ie/personal-data-protection/pr...   \n",
       "\n",
       "                  date          secto      hq  hq_cat     publ  GenData  \\\n",
       "0  2020-11-02 00:00:00  Cloud storage   China   Other   Public      1.0   \n",
       "1  2022-01-14 00:00:00  Cloud storage      US      US   Public      1.0   \n",
       "2                  NaN  Cloud storage      US      US   Public      NaN   \n",
       "3  2019-07-25 00:00:00  Cloud storage  Poland  Poland  Private      1.0   \n",
       "4                  NaN  Cloud storage  France      EU   Public      1.0   \n",
       "\n",
       "   GenUse  NoDist                                         DataExamp1  \\\n",
       "0     1.0     1.0  Operation and support information. Baidu AI Cl...   \n",
       "1     1.0     1.0  We collect information related to how you use ...   \n",
       "2     NaN     NaN                                                NaN   \n",
       "3     1.0     1.0  In case of events organization, whether physic...   \n",
       "4     1.0     1.0  Other information you provide directly to us. ...   \n",
       "\n",
       "                                          DataExamp2  \\\n",
       "0  To improve services, Baidu AI Cloud records yo...   \n",
       "1  Your devices (depending on their settings) may...   \n",
       "2                                                NaN   \n",
       "3  Data that has been\\nsubjected to the\\nbreach a...   \n",
       "4  Other information that we collect automaticall...   \n",
       "\n",
       "                                          DataExamp3  \\\n",
       "0  8. Please note: In the following circumstances...   \n",
       "1                                                NaN   \n",
       "2                                                NaN   \n",
       "3                                                NaN   \n",
       "4  We may receive information from cookies (small...   \n",
       "\n",
       "                                             GenUse1  \\\n",
       "0  We use the collected information to provide an...   \n",
       "1  We collect and use the following information t...   \n",
       "2                                                NaN   \n",
       "3  The above-mentioned data may be processed for ...   \n",
       "4  Certain features, like contact syncing, may re...   \n",
       "\n",
       "                                             GenUse2  \\\n",
       "0  We will use the data for research for public i...   \n",
       "1  We collect and use the personal data described...   \n",
       "2                                                NaN   \n",
       "3  These data are collected to organise the\\neven...   \n",
       "4  Functional Cookies: These help us provide enha...   \n",
       "\n",
       "                                             GenUse3  \\\n",
       "0  We share personal data with suppliers or partn...   \n",
       "1  We also collect anduse personal data for our l...   \n",
       "2                                                NaN   \n",
       "3  Anonymisation for\\nresearch and\\ndevelopment,\\...   \n",
       "4  To protect our services. We use information to...   \n",
       "\n",
       "                                             NoDist1  \\\n",
       "0  In order to improve the security of your use o...   \n",
       "1  We collect and use the following information t...   \n",
       "2                                                NaN   \n",
       "3       Potentially any data\\nsubject to this policy   \n",
       "4  To provide you with the services. We use your ...   \n",
       "\n",
       "                                             NoDist2  \\\n",
       "0  We use the collected information to provide an...   \n",
       "1  We collect and use the personal data described...   \n",
       "2                                                NaN   \n",
       "3                                                NaN   \n",
       "4  To do so, we\\nuse your information to monitor ...   \n",
       "\n",
       "                                             NoDist3  \n",
       "0  We will use the data for research for public i...  \n",
       "1  We also collect anduse personal data for our l...  \n",
       "2                                                NaN  \n",
       "3                                                NaN  \n",
       "4  To personalize the product. We use your inform...  "
      ]
     },
     "execution_count": 175,
     "metadata": {},
     "output_type": "execute_result"
    }
   ],
   "source": [
    "privacy_policies1.head()"
   ]
  },
  {
   "cell_type": "code",
   "execution_count": 176,
   "metadata": {},
   "outputs": [
    {
     "data": {
      "text/html": [
       "<div>\n",
       "<style scoped>\n",
       "    .dataframe tbody tr th:only-of-type {\n",
       "        vertical-align: middle;\n",
       "    }\n",
       "\n",
       "    .dataframe tbody tr th {\n",
       "        vertical-align: top;\n",
       "    }\n",
       "\n",
       "    .dataframe thead th {\n",
       "        text-align: right;\n",
       "    }\n",
       "</style>\n",
       "<table border=\"1\" class=\"dataframe\">\n",
       "  <thead>\n",
       "    <tr style=\"text-align: right;\">\n",
       "      <th></th>\n",
       "      <th>ID</th>\n",
       "      <th>name</th>\n",
       "      <th>url</th>\n",
       "      <th>date</th>\n",
       "      <th>secto</th>\n",
       "      <th>hq</th>\n",
       "      <th>hq_cat</th>\n",
       "      <th>publ</th>\n",
       "      <th>GenData</th>\n",
       "      <th>GenUse</th>\n",
       "      <th>NoDist</th>\n",
       "      <th>DataExamp1</th>\n",
       "      <th>DataExamp2</th>\n",
       "      <th>DataExamp3</th>\n",
       "      <th>GenUse1</th>\n",
       "      <th>GenUse2</th>\n",
       "      <th>GenUse3</th>\n",
       "      <th>NoDist1</th>\n",
       "      <th>NoDist2</th>\n",
       "      <th>NoDist3</th>\n",
       "    </tr>\n",
       "  </thead>\n",
       "  <tbody>\n",
       "    <tr>\n",
       "      <th>0</th>\n",
       "      <td>NaN</td>\n",
       "      <td>Baidu AI Cloud</td>\n",
       "      <td>https://intl.cloud.baidu.com/doc/Agreements/in...</td>\n",
       "      <td>2020-11-02 00:00:00</td>\n",
       "      <td>Cloud storage</td>\n",
       "      <td>China</td>\n",
       "      <td>Other</td>\n",
       "      <td>Public</td>\n",
       "      <td>1.0</td>\n",
       "      <td>1.0</td>\n",
       "      <td>1.0</td>\n",
       "      <td>After you register, you can continue to comple...</td>\n",
       "      <td>NaN</td>\n",
       "      <td>NaN</td>\n",
       "      <td>We use the collected information to provide an...</td>\n",
       "      <td>Please note: In the following circumstances, i...</td>\n",
       "      <td>NaN</td>\n",
       "      <td>Baidu AI Cloud will use your personal informat...</td>\n",
       "      <td>To facilitate us to provide you with services ...</td>\n",
       "      <td>NaN</td>\n",
       "    </tr>\n",
       "    <tr>\n",
       "      <th>1</th>\n",
       "      <td>NaN</td>\n",
       "      <td>Dropbox</td>\n",
       "      <td>https://www.dropbox.com/privacy</td>\n",
       "      <td>2022-01-14 00:00:00</td>\n",
       "      <td>Cloud storage</td>\n",
       "      <td>US</td>\n",
       "      <td>US</td>\n",
       "      <td>Public</td>\n",
       "      <td>1.0</td>\n",
       "      <td>1.0</td>\n",
       "      <td>1.0</td>\n",
       "      <td>We collect, and associate with your account, t...</td>\n",
       "      <td>To make that possible, we store,\\nprocess, and...</td>\n",
       "      <td>We also collect information from and about the...</td>\n",
       "      <td>We collect and use the following information t...</td>\n",
       "      <td>We use this information to provide, improve, a...</td>\n",
       "      <td>For example, we use device information to dete...</td>\n",
       "      <td>We collect and use the personal data described...</td>\n",
       "      <td>NaN</td>\n",
       "      <td>NaN</td>\n",
       "    </tr>\n",
       "    <tr>\n",
       "      <th>2</th>\n",
       "      <td>NaN</td>\n",
       "      <td>iCloud</td>\n",
       "      <td>https://www.apple.com/uk/legal/internet-servic...</td>\n",
       "      <td>NaN</td>\n",
       "      <td>Cloud storage</td>\n",
       "      <td>US</td>\n",
       "      <td>US</td>\n",
       "      <td>Public</td>\n",
       "      <td>NaN</td>\n",
       "      <td>NaN</td>\n",
       "      <td>NaN</td>\n",
       "      <td>NaN</td>\n",
       "      <td>NaN</td>\n",
       "      <td>NaN</td>\n",
       "      <td>NaN</td>\n",
       "      <td>NaN</td>\n",
       "      <td>NaN</td>\n",
       "      <td>NaN</td>\n",
       "      <td>NaN</td>\n",
       "      <td>NaN</td>\n",
       "    </tr>\n",
       "    <tr>\n",
       "      <th>3</th>\n",
       "      <td>NaN</td>\n",
       "      <td>Oktawave</td>\n",
       "      <td>https://oktawave.com/en/company/legal/privacy-...</td>\n",
       "      <td>2019-07-25 00:00:00</td>\n",
       "      <td>Cloud storage</td>\n",
       "      <td>Poland</td>\n",
       "      <td>Poland</td>\n",
       "      <td>Private</td>\n",
       "      <td>1.0</td>\n",
       "      <td>1.0</td>\n",
       "      <td>1.0</td>\n",
       "      <td>The scope of personal data that we process dep...</td>\n",
       "      <td>If you use the telephone customer service, ele...</td>\n",
       "      <td>Once you use our services, apart of the part I...</td>\n",
       "      <td>We\\nprocess the abovementioned information in ...</td>\n",
       "      <td>Additionally, with regard to the processing of...</td>\n",
       "      <td>Nevertheless, we may analyse information about...</td>\n",
       "      <td>Additionally, with regard to the processing of...</td>\n",
       "      <td>If you have been added by our client as a user...</td>\n",
       "      <td>Nevertheless, we may analyse information about...</td>\n",
       "    </tr>\n",
       "    <tr>\n",
       "      <th>4</th>\n",
       "      <td>NaN</td>\n",
       "      <td>OVH</td>\n",
       "      <td>https://www.ovh.ie/personal-data-protection/pr...</td>\n",
       "      <td>NaN</td>\n",
       "      <td>Cloud storage</td>\n",
       "      <td>France</td>\n",
       "      <td>EU</td>\n",
       "      <td>Public</td>\n",
       "      <td>1.0</td>\n",
       "      <td>1.0</td>\n",
       "      <td>1.0</td>\n",
       "      <td>In case of events organization, whether physic...</td>\n",
       "      <td>Data that has been\\nsubjected to the\\nbreach a...</td>\n",
       "      <td>NaN</td>\n",
       "      <td>The above-mentioned data may be processed for ...</td>\n",
       "      <td>These data are collected to organise the\\neven...</td>\n",
       "      <td>Anonymisation for\\nresearch and\\ndevelopment,\\...</td>\n",
       "      <td>Potentially any data\\nsubject to this policy</td>\n",
       "      <td>NaN</td>\n",
       "      <td>NaN</td>\n",
       "    </tr>\n",
       "  </tbody>\n",
       "</table>\n",
       "</div>"
      ],
      "text/plain": [
       "   ID            name                                                url  \\\n",
       "0 NaN  Baidu AI Cloud  https://intl.cloud.baidu.com/doc/Agreements/in...   \n",
       "1 NaN         Dropbox                    https://www.dropbox.com/privacy   \n",
       "2 NaN          iCloud  https://www.apple.com/uk/legal/internet-servic...   \n",
       "3 NaN        Oktawave  https://oktawave.com/en/company/legal/privacy-...   \n",
       "4 NaN             OVH  https://www.ovh.ie/personal-data-protection/pr...   \n",
       "\n",
       "                  date          secto      hq  hq_cat     publ  GenData  \\\n",
       "0  2020-11-02 00:00:00  Cloud storage   China   Other   Public      1.0   \n",
       "1  2022-01-14 00:00:00  Cloud storage      US      US   Public      1.0   \n",
       "2                  NaN  Cloud storage      US      US   Public      NaN   \n",
       "3  2019-07-25 00:00:00  Cloud storage  Poland  Poland  Private      1.0   \n",
       "4                  NaN  Cloud storage  France      EU   Public      1.0   \n",
       "\n",
       "   GenUse  NoDist                                         DataExamp1  \\\n",
       "0     1.0     1.0  After you register, you can continue to comple...   \n",
       "1     1.0     1.0  We collect, and associate with your account, t...   \n",
       "2     NaN     NaN                                                NaN   \n",
       "3     1.0     1.0  The scope of personal data that we process dep...   \n",
       "4     1.0     1.0  In case of events organization, whether physic...   \n",
       "\n",
       "                                          DataExamp2  \\\n",
       "0                                                NaN   \n",
       "1  To make that possible, we store,\\nprocess, and...   \n",
       "2                                                NaN   \n",
       "3  If you use the telephone customer service, ele...   \n",
       "4  Data that has been\\nsubjected to the\\nbreach a...   \n",
       "\n",
       "                                          DataExamp3  \\\n",
       "0                                                NaN   \n",
       "1  We also collect information from and about the...   \n",
       "2                                                NaN   \n",
       "3  Once you use our services, apart of the part I...   \n",
       "4                                                NaN   \n",
       "\n",
       "                                             GenUse1  \\\n",
       "0  We use the collected information to provide an...   \n",
       "1  We collect and use the following information t...   \n",
       "2                                                NaN   \n",
       "3  We\\nprocess the abovementioned information in ...   \n",
       "4  The above-mentioned data may be processed for ...   \n",
       "\n",
       "                                             GenUse2  \\\n",
       "0  Please note: In the following circumstances, i...   \n",
       "1  We use this information to provide, improve, a...   \n",
       "2                                                NaN   \n",
       "3  Additionally, with regard to the processing of...   \n",
       "4  These data are collected to organise the\\neven...   \n",
       "\n",
       "                                             GenUse3  \\\n",
       "0                                                NaN   \n",
       "1  For example, we use device information to dete...   \n",
       "2                                                NaN   \n",
       "3  Nevertheless, we may analyse information about...   \n",
       "4  Anonymisation for\\nresearch and\\ndevelopment,\\...   \n",
       "\n",
       "                                             NoDist1  \\\n",
       "0  Baidu AI Cloud will use your personal informat...   \n",
       "1  We collect and use the personal data described...   \n",
       "2                                                NaN   \n",
       "3  Additionally, with regard to the processing of...   \n",
       "4       Potentially any data\\nsubject to this policy   \n",
       "\n",
       "                                             NoDist2  \\\n",
       "0  To facilitate us to provide you with services ...   \n",
       "1                                                NaN   \n",
       "2                                                NaN   \n",
       "3  If you have been added by our client as a user...   \n",
       "4                                                NaN   \n",
       "\n",
       "                                             NoDist3  \n",
       "0                                                NaN  \n",
       "1                                                NaN  \n",
       "2                                                NaN  \n",
       "3  Nevertheless, we may analyse information about...  \n",
       "4                                                NaN  "
      ]
     },
     "execution_count": 176,
     "metadata": {},
     "output_type": "execute_result"
    }
   ],
   "source": [
    "privacy_policies2.head()"
   ]
  },
  {
   "cell_type": "markdown",
   "metadata": {},
   "source": [
    "### Adding dataset info"
   ]
  },
  {
   "cell_type": "code",
   "execution_count": 177,
   "metadata": {},
   "outputs": [],
   "source": [
    "datasets[\"name\"].append(\"privacy-policies\")\n",
    "datasets[\"description\"].append(\"Privacy policies annotated with binary classes in regards to three privacy questions.\")\n",
    "datasets[\"summary_file_format\"].append(\"xlsx\")\n",
    "datasets[\"raw_files_format\"].append(\"pdf\")\n",
    "datasets[\"aggregated_files_format\"].append(\"NA\")\n",
    "datasets[\"nb_records\"].append(100)\n",
    "datasets[\"split_train_test\"].append(False)\n",
    "datasets[\"labeled\"].append(True)\n",
    "datasets[\"labels\"].append(\"Binary classification on wether or not: 1. what data will be collected; 2. in what ways the data will be used; 3. what data will be used in what way OR is the wording such that the company enjoys significant flexibility\")"
   ]
  },
  {
   "cell_type": "markdown",
   "metadata": {},
   "source": [
    "# Saving summary table"
   ]
  },
  {
   "cell_type": "code",
   "execution_count": 178,
   "metadata": {},
   "outputs": [
    {
     "data": {
      "text/html": [
       "<div>\n",
       "<style scoped>\n",
       "    .dataframe tbody tr th:only-of-type {\n",
       "        vertical-align: middle;\n",
       "    }\n",
       "\n",
       "    .dataframe tbody tr th {\n",
       "        vertical-align: top;\n",
       "    }\n",
       "\n",
       "    .dataframe thead th {\n",
       "        text-align: right;\n",
       "    }\n",
       "</style>\n",
       "<table border=\"1\" class=\"dataframe\">\n",
       "  <thead>\n",
       "    <tr style=\"text-align: right;\">\n",
       "      <th></th>\n",
       "      <th>name</th>\n",
       "      <th>description</th>\n",
       "      <th>summary_file_format</th>\n",
       "      <th>raw_files_format</th>\n",
       "      <th>aggregated_files_format</th>\n",
       "      <th>nb_records</th>\n",
       "      <th>split_train_test</th>\n",
       "      <th>labeled</th>\n",
       "      <th>labels</th>\n",
       "    </tr>\n",
       "  </thead>\n",
       "  <tbody>\n",
       "    <tr>\n",
       "      <th>0</th>\n",
       "      <td>CUAD</td>\n",
       "      <td>Extracts 41 categories of important clauses fr...</td>\n",
       "      <td>csv</td>\n",
       "      <td>pdf/txt</td>\n",
       "      <td>NA</td>\n",
       "      <td>510</td>\n",
       "      <td>False</td>\n",
       "      <td>True</td>\n",
       "      <td>41 different clauses</td>\n",
       "    </tr>\n",
       "    <tr>\n",
       "      <th>1</th>\n",
       "      <td>ContractNLI</td>\n",
       "      <td>Contracts annotated on 17 different hypotheses...</td>\n",
       "      <td>NA</td>\n",
       "      <td>pdf/htm/txt</td>\n",
       "      <td>json</td>\n",
       "      <td>607</td>\n",
       "      <td>True</td>\n",
       "      <td>True</td>\n",
       "      <td>17 hypotheses - each can be 'entailed by', 'co...</td>\n",
       "    </tr>\n",
       "    <tr>\n",
       "      <th>2</th>\n",
       "      <td>Legal-Clauses</td>\n",
       "      <td>Annotated clauses from contracts</td>\n",
       "      <td>NA</td>\n",
       "      <td>NA</td>\n",
       "      <td>csv</td>\n",
       "      <td>21187</td>\n",
       "      <td>False</td>\n",
       "      <td>True</td>\n",
       "      <td>42 clause types</td>\n",
       "    </tr>\n",
       "    <tr>\n",
       "      <th>3</th>\n",
       "      <td>LEDGAR</td>\n",
       "      <td>Annotated clauses from contracts</td>\n",
       "      <td>NA</td>\n",
       "      <td>NA</td>\n",
       "      <td>huggingface-dataset</td>\n",
       "      <td>80000</td>\n",
       "      <td>True</td>\n",
       "      <td>True</td>\n",
       "      <td>100 clause types</td>\n",
       "    </tr>\n",
       "    <tr>\n",
       "      <th>4</th>\n",
       "      <td>ToSDR-corpus</td>\n",
       "      <td>Corpus of legal texts</td>\n",
       "      <td>NA</td>\n",
       "      <td>txt/html</td>\n",
       "      <td>NA</td>\n",
       "      <td>12215</td>\n",
       "      <td>False</td>\n",
       "      <td>False</td>\n",
       "      <td>NA</td>\n",
       "    </tr>\n",
       "    <tr>\n",
       "      <th>5</th>\n",
       "      <td>ToS-summaries</td>\n",
       "      <td>Terms of Service Agreements with their summaries</td>\n",
       "      <td>NA</td>\n",
       "      <td>NA</td>\n",
       "      <td>json</td>\n",
       "      <td>901</td>\n",
       "      <td>False</td>\n",
       "      <td>True</td>\n",
       "      <td>Text summary</td>\n",
       "    </tr>\n",
       "    <tr>\n",
       "      <th>6</th>\n",
       "      <td>privacy-policies</td>\n",
       "      <td>Privacy policies annotated with binary classes...</td>\n",
       "      <td>xlsx</td>\n",
       "      <td>pdf</td>\n",
       "      <td>NA</td>\n",
       "      <td>100</td>\n",
       "      <td>False</td>\n",
       "      <td>True</td>\n",
       "      <td>Binary classification on wether or not: 1. wha...</td>\n",
       "    </tr>\n",
       "  </tbody>\n",
       "</table>\n",
       "</div>"
      ],
      "text/plain": [
       "               name                                        description  \\\n",
       "0              CUAD  Extracts 41 categories of important clauses fr...   \n",
       "1       ContractNLI  Contracts annotated on 17 different hypotheses...   \n",
       "2     Legal-Clauses                   Annotated clauses from contracts   \n",
       "3            LEDGAR                   Annotated clauses from contracts   \n",
       "4      ToSDR-corpus                              Corpus of legal texts   \n",
       "5     ToS-summaries   Terms of Service Agreements with their summaries   \n",
       "6  privacy-policies  Privacy policies annotated with binary classes...   \n",
       "\n",
       "  summary_file_format raw_files_format aggregated_files_format  nb_records  \\\n",
       "0                 csv          pdf/txt                      NA         510   \n",
       "1                  NA      pdf/htm/txt                    json         607   \n",
       "2                  NA               NA                     csv       21187   \n",
       "3                  NA               NA     huggingface-dataset       80000   \n",
       "4                  NA         txt/html                      NA       12215   \n",
       "5                  NA               NA                    json         901   \n",
       "6                xlsx              pdf                      NA         100   \n",
       "\n",
       "   split_train_test  labeled  \\\n",
       "0             False     True   \n",
       "1              True     True   \n",
       "2             False     True   \n",
       "3              True     True   \n",
       "4             False    False   \n",
       "5             False     True   \n",
       "6             False     True   \n",
       "\n",
       "                                              labels  \n",
       "0                               41 different clauses  \n",
       "1  17 hypotheses - each can be 'entailed by', 'co...  \n",
       "2                                    42 clause types  \n",
       "3                                   100 clause types  \n",
       "4                                                 NA  \n",
       "5                                       Text summary  \n",
       "6  Binary classification on wether or not: 1. wha...  "
      ]
     },
     "execution_count": 178,
     "metadata": {},
     "output_type": "execute_result"
    }
   ],
   "source": [
    "datasets_df = pd.DataFrame(datasets)\n",
    "datasets_df"
   ]
  },
  {
   "cell_type": "code",
   "execution_count": 179,
   "metadata": {},
   "outputs": [],
   "source": [
    "datasets_df.to_csv(\"candidate-datasets-summary.csv\", index=False)"
   ]
  },
  {
   "cell_type": "markdown",
   "metadata": {},
   "source": []
  }
 ],
 "metadata": {
  "kernelspec": {
   "display_name": "fineprint",
   "language": "python",
   "name": "python3"
  },
  "language_info": {
   "codemirror_mode": {
    "name": "ipython",
    "version": 3
   },
   "file_extension": ".py",
   "mimetype": "text/x-python",
   "name": "python",
   "nbconvert_exporter": "python",
   "pygments_lexer": "ipython3",
   "version": "3.8.12"
  }
 },
 "nbformat": 4,
 "nbformat_minor": 2
}
